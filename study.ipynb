{
 "cells": [
  {
   "cell_type": "code",
   "execution_count": 1,
   "id": "ac954e3f-1200-4a89-a915-099ee84b5ba5",
   "metadata": {},
   "outputs": [
    {
     "name": "stdout",
     "output_type": "stream",
     "text": [
      "ilk ders\n"
     ]
    }
   ],
   "source": [
    "print (\"ilk ders\")"
   ]
  },
  {
   "cell_type": "code",
   "execution_count": 2,
   "id": "1d258e9a-16ed-4dbb-ab8e-2a5a19c2ec0e",
   "metadata": {},
   "outputs": [
    {
     "name": "stdout",
     "output_type": "stream",
     "text": [
      "Hello Hello Hello Hello \n"
     ]
    }
   ],
   "source": [
    "str= \"Hello \"\n",
    "print (str*4)"
   ]
  },
  {
   "cell_type": "markdown",
   "id": "e9bcc91a-bf49-447d-8c68-d22e8e59cb13",
   "metadata": {},
   "source": [
    "##üstteki hücreler altta geçerli"
   ]
  },
  {
   "cell_type": "code",
   "execution_count": 3,
   "id": "447baeaf-5dea-4993-85c8-13b4e2e6a956",
   "metadata": {},
   "outputs": [
    {
     "data": {
      "text/plain": [
       "6"
      ]
     },
     "execution_count": 3,
     "metadata": {},
     "output_type": "execute_result"
    }
   ],
   "source": [
    "len(str)"
   ]
  },
  {
   "cell_type": "code",
   "execution_count": 2,
   "id": "aad47661-f955-4a9e-ab2c-2dc37894fd94",
   "metadata": {},
   "outputs": [
    {
     "data": {
      "text/plain": [
       "5.3"
      ]
     },
     "execution_count": 2,
     "metadata": {},
     "output_type": "execute_result"
    }
   ],
   "source": [
    "int(\"3\")\n"
   ]
  },
  {
   "cell_type": "code",
   "execution_count": 25,
   "id": "21e6b7ae-758e-4483-b91f-417ae6ddacec",
   "metadata": {
    "tags": []
   },
   "outputs": [
    {
     "name": "stdout",
     "output_type": "stream",
     "text": [
      "ello \n"
     ]
    }
   ],
   "source": [
    "print (str[1:len(str)])"
   ]
  },
  {
   "cell_type": "code",
   "execution_count": 3,
   "id": "9158a76f-7122-48c5-9b46-2c5c68b6cbce",
   "metadata": {},
   "outputs": [
    {
     "data": {
      "text/plain": [
       "5.3"
      ]
     },
     "execution_count": 3,
     "metadata": {},
     "output_type": "execute_result"
    }
   ],
   "source": [
    "float(\"5.3\")"
   ]
  },
  {
   "cell_type": "code",
   "execution_count": 8,
   "id": "833151b0-c893-4ddf-8591-61df4d0c9a02",
   "metadata": {},
   "outputs": [
    {
     "name": "stdin",
     "output_type": "stream",
     "text": [
      "bir sayı girin 3\n",
      "bir sayı daha girin 5\n"
     ]
    },
    {
     "data": {
      "text/plain": [
       "8"
      ]
     },
     "execution_count": 8,
     "metadata": {},
     "output_type": "execute_result"
    }
   ],
   "source": [
    "x= input(\"bir sayı girin\")  #x string\n",
    "int(x)+int(input(\"bir sayı daha girin\"))"
   ]
  },
  {
   "cell_type": "code",
   "execution_count": 13,
   "id": "5cf3624a-22df-4fbd-9620-fddac2b12c48",
   "metadata": {},
   "outputs": [
    {
     "name": "stdout",
     "output_type": "stream",
     "text": [
      "0.30000000000000004\n"
     ]
    },
    {
     "data": {
      "text/plain": [
       "False"
      ]
     },
     "execution_count": 13,
     "metadata": {},
     "output_type": "execute_result"
    }
   ],
   "source": [
    "print(0.1 * 3) # floatlarda karşılaştırma yaparken hata verebilir\n",
    "(0.1 * 3)==0.3"
   ]
  },
  {
   "cell_type": "code",
   "execution_count": 16,
   "id": "042aa1cd-21ad-4050-be89-4614291eb635",
   "metadata": {},
   "outputs": [
    {
     "data": {
      "text/plain": [
       "False"
      ]
     },
     "execution_count": 16,
     "metadata": {},
     "output_type": "execute_result"
    }
   ],
   "source": [
    "1==1 and 2==1"
   ]
  },
  {
   "cell_type": "code",
   "execution_count": 18,
   "id": "649f3806-2861-4b90-a5cf-bded48c576a4",
   "metadata": {},
   "outputs": [
    {
     "data": {
      "text/plain": [
       "True"
      ]
     },
     "execution_count": 18,
     "metadata": {},
     "output_type": "execute_result"
    }
   ],
   "source": [
    "1==1 or 2==1"
   ]
  },
  {
   "cell_type": "code",
   "execution_count": 19,
   "id": "f0682d68-12c4-46a1-bf55-6a87a7e1c16f",
   "metadata": {},
   "outputs": [
    {
     "data": {
      "text/plain": [
       "False"
      ]
     },
     "execution_count": 19,
     "metadata": {},
     "output_type": "execute_result"
    }
   ],
   "source": [
    "not 1==1"
   ]
  },
  {
   "cell_type": "code",
   "execution_count": 48,
   "id": "ac2d71ee-a166-49f2-b1e8-9345a02dfaa2",
   "metadata": {},
   "outputs": [
    {
     "name": "stdin",
     "output_type": "stream",
     "text": [
      "bir sayı gir 3\n"
     ]
    },
    {
     "name": "stdout",
     "output_type": "stream",
     "text": [
      "tek sayı\n"
     ]
    }
   ],
   "source": [
    "x=int(input(\"bir sayı gir\"))\n",
    "\n",
    "if x%2 == 0 :\n",
    "    print(\"çift sayı\")\n",
    "else  : \n",
    "    print(\"tek sayı\")\n"
   ]
  },
  {
   "cell_type": "code",
   "execution_count": 2,
   "id": "de0a1c02-abd0-451d-a2a8-02e49212fa4d",
   "metadata": {},
   "outputs": [
    {
     "name": "stdin",
     "output_type": "stream",
     "text": [
      "sayı gir 78\n"
     ]
    },
    {
     "name": "stdout",
     "output_type": "stream",
     "text": [
      "hem küçük hemde çift\n"
     ]
    }
   ],
   "source": [
    "x=int(input(\"sayı gir\"))\n",
    "if x>100:\n",
    "    if x%2==0:\n",
    "        print(\"100den büyük çift sayı\")\n",
    "    else:\n",
    "        print(\"100den büyük tek sayı\")\n",
    "else:\n",
    "    if x%2==0:\n",
    "        print(\"hem küçük hemde çift\")\n",
    "    else:\n",
    "        print(\"hem küçük hem tek\")"
   ]
  },
  {
   "cell_type": "code",
   "execution_count": 6,
   "id": "2ca9c6e3-e27f-4f78-8198-cf310ea5427f",
   "metadata": {},
   "outputs": [
    {
     "name": "stdin",
     "output_type": "stream",
     "text": [
      "y/n 4\n"
     ]
    },
    {
     "name": "stdout",
     "output_type": "stream",
     "text": [
      "yanlış\n"
     ]
    }
   ],
   "source": [
    "print(\"doğru\") if input(\"y/n\")==\"y\" else print(\"yanlış\") # ternary if"
   ]
  },
  {
   "cell_type": "code",
   "execution_count": 7,
   "id": "2e3d136e-2422-442a-9528-83c29ca187b9",
   "metadata": {},
   "outputs": [
    {
     "name": "stdin",
     "output_type": "stream",
     "text": [
      "y/n y\n"
     ]
    },
    {
     "name": "stdout",
     "output_type": "stream",
     "text": [
      "doğru\n"
     ]
    }
   ],
   "source": [
    "x=\"doğru\" if input(\"y/n\")==\"y\" else \"yanlış\" # ternary if\n",
    "print(x)"
   ]
  },
  {
   "cell_type": "code",
   "execution_count": 18,
   "id": "a3e115c9-b995-4ba0-b977-dc3f0fd81126",
   "metadata": {},
   "outputs": [
    {
     "name": "stdout",
     "output_type": "stream",
     "text": [
      "[1, 1, 2, 3, 5, 8, 13, 21, 34, 55, 89]\n"
     ]
    }
   ],
   "source": [
    "def fibonacci(last):\n",
    "    a = 1\n",
    "    x=[1,1]\n",
    "    while a < last:\n",
    "        x.append(x[-1]+x[-2])\n",
    "        a += 1\n",
    "    return x\n",
    "print(fibonacci(10))"
   ]
  },
  {
   "cell_type": "code",
   "execution_count": 29,
   "id": "187f31dc-d633-46b0-9334-c811ac57fbb9",
   "metadata": {},
   "outputs": [
    {
     "name": "stdin",
     "output_type": "stream",
     "text": [
      "bir cümle girin aaa bbb cccc\n"
     ]
    },
    {
     "name": "stdout",
     "output_type": "stream",
     "text": [
      "cccc bbb aaa\n"
     ]
    }
   ],
   "source": [
    "str=input(\"bir cümle girin\")\n",
    "reversed=str.split(\" \")\n",
    "reversed.reverse()\n",
    "strev=\" \".join(reversed)\n",
    "print(strev)"
   ]
  },
  {
   "cell_type": "code",
   "execution_count": 2,
   "id": "8593ea45-98dd-4a5a-a663-20765d6eff53",
   "metadata": {},
   "outputs": [
    {
     "name": "stdout",
     "output_type": "stream",
     "text": [
      "[1, 1, 2, 3, 5, 8, 13, 21, 34, 55, 89]\n"
     ]
    }
   ],
   "source": [
    "def fibonacci(last):\n",
    "    a = 1\n",
    "    x=[1,1]\n",
    "    for a in range(last-1):\n",
    "        x.append(x[-1]+x[-2])\n",
    "        a += 1\n",
    "    return x\n",
    "print(fibonacci(10))"
   ]
  },
  {
   "cell_type": "code",
   "execution_count": 8,
   "id": "c879a037-dd9e-452b-b739-49c159efe831",
   "metadata": {},
   "outputs": [
    {
     "name": "stdout",
     "output_type": "stream",
     "text": [
      "[['oda', 'oda', 'oda'], 'salon', 'balkon', 'mutfak']\n",
      "['oda', 'oda', 'oda']\n",
      "salon\n",
      "balkon\n",
      "mutfak\n"
     ]
    }
   ],
   "source": [
    "ev = [[\"oda\"]*3, \"salon\", \"balkon\", \"mutfak\"]\n",
    "print(ev)\n",
    "for i in range(len(ev)):\n",
    "    print(ev[i])"
   ]
  },
  {
   "cell_type": "code",
   "execution_count": 13,
   "id": "3e71988c-38ad-47b9-bedf-daa5409fe6aa",
   "metadata": {},
   "outputs": [
    {
     "name": "stdout",
     "output_type": "stream",
     "text": [
      "20\n"
     ]
    }
   ],
   "source": [
    "x=0\n",
    "for _ in range(10): # index kullanılmayacaksa _ kullanılabilir\n",
    "    x += 2\n",
    "print(x)"
   ]
  },
  {
   "cell_type": "code",
   "execution_count": 19,
   "id": "d3c61a65-7286-4810-923f-58df894e29e1",
   "metadata": {},
   "outputs": [
    {
     "name": "stdout",
     "output_type": "stream",
     "text": [
      "0\n",
      "1\n",
      "2\n",
      "3\n",
      "4\n",
      "second if\n"
     ]
    }
   ],
   "source": [
    "i=0\n",
    "a=5\n",
    "while i<10:\n",
    "    print(i)\n",
    "    i+=1\n",
    "    if i==5:\n",
    "        print(\"second if\")\n",
    "        if a==5:               # iç içe iflerde break üstteki döngüyü de kesiyor\n",
    "            break\n",
    "    "
   ]
  },
  {
   "cell_type": "code",
   "execution_count": 6,
   "id": "5754b053-eafb-4c74-b32f-0b6edda9d63e",
   "metadata": {},
   "outputs": [
    {
     "name": "stdout",
     "output_type": "stream",
     "text": [
      "[1, 3, 5, 7, 9, 11, 13, 15]\n",
      "[2, 7, 9, 11, 13, 15]\n"
     ]
    }
   ],
   "source": [
    "tek= [1,3,5,9,11,13,15]\n",
    "tek[3:5]=7,9,11 # ekleme için eşit olması gerekmiyor\n",
    "print(tek)\n",
    "tek[0:3]=[2] #çoklu  sırayı tek öğe ile değişmek için köşeli parantez\n",
    "print(tek)"
   ]
  },
  {
   "cell_type": "code",
   "execution_count": 10,
   "id": "4f76022a-adf2-4fe1-a837-cadb71b49135",
   "metadata": {},
   "outputs": [
    {
     "name": "stdout",
     "output_type": "stream",
     "text": [
      "[2, 7, 9, 11, 13, 15, 2, 7, 9, 11, 13, 15, 2, 7, 9, 11, 13, 15, 2, 7, 9, 11, 13, 15, 2, 7, 9, 11, 13, 15, 2, 7, 9, 11, 13, 15, 2, 7, 9, 11, 13, 15, 2, 7, 9, 11, 13, 15, 'ali', 'veli', 2, 7, 9, 11, 13, 15, 2, 7, 9, 11, 13, 15, 2, 7, 9, 11, 13, 15, 2, 7, 9, 11, 13, 15, 2, 7, 9, 11, 13, 15, 2, 7, 9, 11, 13, 15, 2, 7, 9, 11, 13, 15, 2, 7, 9, 11, 13, 15, 'ali', 'veli', 'ali', 'veli']\n"
     ]
    }
   ],
   "source": [
    "tek.extend(tek)\n",
    "tek.extend([\"ali\",\"veli\"])\n",
    "print(tek)"
   ]
  },
  {
   "cell_type": "code",
   "execution_count": 12,
   "id": "37160f08-1d5a-4800-a583-14676578a728",
   "metadata": {},
   "outputs": [
    {
     "name": "stdout",
     "output_type": "stream",
     "text": [
      "['deli', 2, 7, 9, 11, 13, 15, 2, 7, 9, 11, 13, 15, 2, 7, 9, 11, 13, 15, 2, 7, 9, 11, 13, 15, 2, 7, 9, 11, 13, 15, 2, 7, 9, 11, 13, 15, 2, 7, 9, 11, 13, 15, 2, 7, 9, 11, 13, 15, 'ali', 'veli', 2, 7, 9, 11, 13, 15, 2, 7, 9, 11, 13, 15, 2, 7, 9, 11, 13, 15, 2, 7, 9, 11, 13, 15, 2, 7, 9, 11, 13, 15, 2, 7, 9, 11, 13, 15, 2, 7, 9, 11, 13, 15, 2, 7, 9, 11, 13, 15, 'ali', 'veli', 'ali', 'veli']\n"
     ]
    }
   ],
   "source": [
    "tek.insert(0,\"deli\")\n",
    "print(tek)"
   ]
  },
  {
   "cell_type": "code",
   "execution_count": 13,
   "id": "2c041186-4748-4c40-93d3-83e7a2d90095",
   "metadata": {},
   "outputs": [
    {
     "name": "stdout",
     "output_type": "stream",
     "text": [
      "['deli', 7, 9, 11, 13, 15, 2, 7, 9, 11, 13, 15, 2, 7, 9, 11, 13, 15, 2, 7, 9, 11, 13, 15, 2, 7, 9, 11, 13, 15, 2, 7, 9, 11, 13, 15, 2, 7, 9, 11, 13, 15, 2, 7, 9, 11, 13, 15, 'ali', 'veli', 2, 7, 9, 11, 13, 15, 2, 7, 9, 11, 13, 15, 2, 7, 9, 11, 13, 15, 2, 7, 9, 11, 13, 15, 2, 7, 9, 11, 13, 15, 2, 7, 9, 11, 13, 15, 2, 7, 9, 11, 13, 15, 2, 7, 9, 11, 13, 15, 'ali', 'veli', 'ali', 'veli']\n"
     ]
    }
   ],
   "source": [
    "tek.remove(2) # ilk bulduğunu siler\n",
    "print(tek)"
   ]
  },
  {
   "cell_type": "code",
   "execution_count": 25,
   "id": "af4551d6-3c2d-44d9-9c63-31450e4db530",
   "metadata": {},
   "outputs": [
    {
     "name": "stdout",
     "output_type": "stream",
     "text": [
      "3\n"
     ]
    }
   ],
   "source": [
    "a=(tek.pop(7)+1)\n",
    "print( a)"
   ]
  },
  {
   "cell_type": "code",
   "execution_count": 27,
   "id": "ab63d65b-a46b-4fc0-b4c5-cd8cf13dd7e2",
   "metadata": {},
   "outputs": [
    {
     "data": {
      "text/plain": [
       "13"
      ]
     },
     "execution_count": 27,
     "metadata": {},
     "output_type": "execute_result"
    }
   ],
   "source": [
    "tek.count(2)"
   ]
  },
  {
   "cell_type": "code",
   "execution_count": null,
   "id": "e700aeb2-5d67-450d-87f3-80f376c2eb3d",
   "metadata": {},
   "outputs": [],
   "source": [
    "tek.pop(35)"
   ]
  },
  {
   "cell_type": "code",
   "execution_count": 56,
   "id": "1417fa66-51eb-4bc1-8ab4-eb130bd1b4ea",
   "metadata": {},
   "outputs": [
    {
     "name": "stdout",
     "output_type": "stream",
     "text": [
      "[9, 11, 13, 15, 2, 7, 9, 11, 13, 15, 2, 7, 9, 11, 13, 15, 2, 7, 9, 11, 13, 15, 2, 7, 9, 11, 13, 15, 2, 7, 9, 11, 13, 15, 2, 7, 9, 11, 7, 9, 11, 13, 15, 15, 2, 7, 9, 11, 13, 15, 2, 7, 9, 11, 13, 15, 2, 7, 9, 11, 13, 15, 2, 7, 9, 11, 13, 15]\n"
     ]
    }
   ],
   "source": [
    "tek.reverse() #inplace\n",
    "print(tek)"
   ]
  },
  {
   "cell_type": "code",
   "execution_count": 60,
   "id": "99f2b9c8-1001-4902-8329-02d2ac332899",
   "metadata": {},
   "outputs": [
    {
     "data": {
      "text/plain": [
       "[15,\n",
       " 15,\n",
       " 15,\n",
       " 15,\n",
       " 15,\n",
       " 15,\n",
       " 15,\n",
       " 15,\n",
       " 15,\n",
       " 15,\n",
       " 15,\n",
       " 15,\n",
       " 13,\n",
       " 13,\n",
       " 13,\n",
       " 13,\n",
       " 13,\n",
       " 13,\n",
       " 13,\n",
       " 13,\n",
       " 13,\n",
       " 13,\n",
       " 13,\n",
       " 11,\n",
       " 11,\n",
       " 11,\n",
       " 11,\n",
       " 11,\n",
       " 11,\n",
       " 11,\n",
       " 11,\n",
       " 11,\n",
       " 11,\n",
       " 11,\n",
       " 11,\n",
       " 9,\n",
       " 9,\n",
       " 9,\n",
       " 9,\n",
       " 9,\n",
       " 9,\n",
       " 9,\n",
       " 9,\n",
       " 9,\n",
       " 9,\n",
       " 9,\n",
       " 9,\n",
       " 7,\n",
       " 7,\n",
       " 7,\n",
       " 7,\n",
       " 7,\n",
       " 7,\n",
       " 7,\n",
       " 7,\n",
       " 7,\n",
       " 7,\n",
       " 7,\n",
       " 2,\n",
       " 2,\n",
       " 2,\n",
       " 2,\n",
       " 2,\n",
       " 2,\n",
       " 2,\n",
       " 2,\n",
       " 2,\n",
       " 2]"
      ]
     },
     "execution_count": 60,
     "metadata": {},
     "output_type": "execute_result"
    }
   ],
   "source": [
    "tek[::-1] # not inplace"
   ]
  },
  {
   "cell_type": "code",
   "execution_count": 57,
   "id": "8768e67f-a095-46db-8f53-16c1faf0a8c8",
   "metadata": {},
   "outputs": [
    {
     "data": {
      "text/plain": [
       "[2,\n",
       " 2,\n",
       " 2,\n",
       " 2,\n",
       " 2,\n",
       " 2,\n",
       " 2,\n",
       " 2,\n",
       " 2,\n",
       " 2,\n",
       " 7,\n",
       " 7,\n",
       " 7,\n",
       " 7,\n",
       " 7,\n",
       " 7,\n",
       " 7,\n",
       " 7,\n",
       " 7,\n",
       " 7,\n",
       " 7,\n",
       " 9,\n",
       " 9,\n",
       " 9,\n",
       " 9,\n",
       " 9,\n",
       " 9,\n",
       " 9,\n",
       " 9,\n",
       " 9,\n",
       " 9,\n",
       " 9,\n",
       " 9,\n",
       " 11,\n",
       " 11,\n",
       " 11,\n",
       " 11,\n",
       " 11,\n",
       " 11,\n",
       " 11,\n",
       " 11,\n",
       " 11,\n",
       " 11,\n",
       " 11,\n",
       " 11,\n",
       " 13,\n",
       " 13,\n",
       " 13,\n",
       " 13,\n",
       " 13,\n",
       " 13,\n",
       " 13,\n",
       " 13,\n",
       " 13,\n",
       " 13,\n",
       " 13,\n",
       " 15,\n",
       " 15,\n",
       " 15,\n",
       " 15,\n",
       " 15,\n",
       " 15,\n",
       " 15,\n",
       " 15,\n",
       " 15,\n",
       " 15,\n",
       " 15,\n",
       " 15]"
      ]
     },
     "execution_count": 57,
     "metadata": {},
     "output_type": "execute_result"
    }
   ],
   "source": [
    "sorted(tek) # not inplace"
   ]
  },
  {
   "cell_type": "code",
   "execution_count": 59,
   "id": "ef23b44f-9ec5-496a-9c76-3364501a62f3",
   "metadata": {},
   "outputs": [
    {
     "name": "stdout",
     "output_type": "stream",
     "text": [
      "[2, 2, 2, 2, 2, 2, 2, 2, 2, 2, 7, 7, 7, 7, 7, 7, 7, 7, 7, 7, 7, 9, 9, 9, 9, 9, 9, 9, 9, 9, 9, 9, 9, 11, 11, 11, 11, 11, 11, 11, 11, 11, 11, 11, 11, 13, 13, 13, 13, 13, 13, 13, 13, 13, 13, 13, 15, 15, 15, 15, 15, 15, 15, 15, 15, 15, 15, 15]\n"
     ]
    }
   ],
   "source": [
    "tek.sort() # inplace\n",
    "print(tek)"
   ]
  },
  {
   "cell_type": "code",
   "execution_count": 62,
   "id": "f632a779-89b9-400c-8ec4-99f0a09fb471",
   "metadata": {},
   "outputs": [
    {
     "name": "stdout",
     "output_type": "stream",
     "text": [
      "[2, 2, 2, 2, 2, 2, 2, 2, 2, 2, 7, 7, 7, 7, 7, 7, 7, 7, 7, 7, 7, 9, 9, 9, 9, 9, 9, 9, 9, 9, 9, 9, 9, 11, 11, 11, 11, 11, 11, 11, 11, 11, 11, 11, 11, 13, 13, 13, 13, 13, 13, 13, 13, 13, 13, 13, 15, 15, 15, 15, 15, 15, 15, 15, 15, 15, 15, 15]\n"
     ]
    }
   ],
   "source": [
    "tekYedek = tek.copy() # eğer orjinal liste üzerinde değişiklik yapmadan oynamak istiyorsak doğrudan assignment yerine copy ile almalıyız bknz referans değer\n",
    "print(tekYedek)"
   ]
  },
  {
   "cell_type": "code",
   "execution_count": 66,
   "id": "b2b4ea8e-31c4-4a6a-be51-d4bc93eeca44",
   "metadata": {},
   "outputs": [
    {
     "name": "stdout",
     "output_type": "stream",
     "text": [
      "[1]\n"
     ]
    }
   ],
   "source": [
    "liste = []\n",
    "e = 1\n",
    "liste.insert(0, e)\n",
    "print(liste)"
   ]
  },
  {
   "cell_type": "code",
   "execution_count": 73,
   "id": "2bbacee0-58a3-4604-b502-2075b655050f",
   "metadata": {},
   "outputs": [
    {
     "name": "stdout",
     "output_type": "stream",
     "text": [
      "[1]\n"
     ]
    }
   ],
   "source": [
    "liste.remove(1)\n",
    "print(liste)"
   ]
  },
  {
   "cell_type": "code",
   "execution_count": 72,
   "id": "fc5c7b55-67b6-4d3e-88e6-df5b2aa2f2e8",
   "metadata": {},
   "outputs": [
    {
     "name": "stdout",
     "output_type": "stream",
     "text": [
      "[1, 1]\n"
     ]
    }
   ],
   "source": [
    "liste.append(e)\n",
    "print(liste)"
   ]
  },
  {
   "cell_type": "code",
   "execution_count": 74,
   "id": "4fe589e6-6220-4700-b2b1-56698a27490a",
   "metadata": {},
   "outputs": [
    {
     "name": "stdout",
     "output_type": "stream",
     "text": [
      "[1]\n"
     ]
    }
   ],
   "source": [
    "liste.sort()\n",
    "print(liste)"
   ]
  },
  {
   "cell_type": "code",
   "execution_count": 75,
   "id": "13189b1c-3c9b-4a93-aa8b-0838726ba66e",
   "metadata": {},
   "outputs": [
    {
     "data": {
      "text/plain": [
       "1"
      ]
     },
     "execution_count": 75,
     "metadata": {},
     "output_type": "execute_result"
    }
   ],
   "source": [
    "liste.pop(len(liste)-1)"
   ]
  },
  {
   "cell_type": "code",
   "execution_count": 77,
   "id": "dd160a74-4346-485c-bb2f-affc146929a5",
   "metadata": {},
   "outputs": [
    {
     "name": "stdout",
     "output_type": "stream",
     "text": [
      "[]\n"
     ]
    }
   ],
   "source": [
    "liste.reverse()\n",
    "print(liste)"
   ]
  },
  {
   "cell_type": "markdown",
   "id": "42a03e32-23ea-4981-8ba6-f29fe5454e61",
   "metadata": {},
   "source": [
    "## tuple = array (go) list = slice(go)"
   ]
  },
  {
   "cell_type": "code",
   "execution_count": 1,
   "id": "227f3d8e-0123-43a6-b9ab-32a8fbf8c1c6",
   "metadata": {},
   "outputs": [
    {
     "name": "stdout",
     "output_type": "stream",
     "text": [
      "5\n",
      "([8, 32432, 10], 5)\n"
     ]
    },
    {
     "ename": "TypeError",
     "evalue": "'tuple' object does not support item assignment",
     "output_type": "error",
     "traceback": [
      "\u001b[1;31m---------------------------------------------------------------------------\u001b[0m",
      "\u001b[1;31mTypeError\u001b[0m                                 Traceback (most recent call last)",
      "Input \u001b[1;32mIn [1]\u001b[0m, in \u001b[0;36m<module>\u001b[1;34m\u001b[0m\n\u001b[0;32m      3\u001b[0m konum[\u001b[38;5;241m0\u001b[39m][\u001b[38;5;241m1\u001b[39m]\u001b[38;5;241m=\u001b[39m\u001b[38;5;241m32432\u001b[39m\n\u001b[0;32m      4\u001b[0m \u001b[38;5;28mprint\u001b[39m(konum)\n\u001b[1;32m----> 5\u001b[0m konum[\u001b[38;5;241m1\u001b[39m]\u001b[38;5;241m=\u001b[39m \u001b[38;5;241m7\u001b[39m\n",
      "\u001b[1;31mTypeError\u001b[0m: 'tuple' object does not support item assignment"
     ]
    }
   ],
   "source": [
    "konum= ([8,9,10],5)\n",
    "print(konum[1])\n",
    "konum[0][1]=32432\n",
    "print(konum)\n",
    "konum[1]= 7   # tuple değerleri değiştirilemez"
   ]
  },
  {
   "cell_type": "code",
   "execution_count": 14,
   "id": "5ac04b3d-8977-4811-84ef-ae043a9f0788",
   "metadata": {},
   "outputs": [
    {
     "name": "stdout",
     "output_type": "stream",
     "text": [
      "{'kitaplar': {'tarih': 10, 'coğrafya': 20}, 'stuff': ['ali', 'veli']}\n",
      "20\n",
      "veli\n",
      "{'kitaplar': {'tarih': 10, 'coğrafya': 5}, 'stuff': ['ali', 'veli']}\n",
      "{'kitaplar': {'tarih': 10, 'coğrafya': 30}, 'stuff': ['ali', 'veli']}\n",
      "{'kitaplar': {'coğrafya': 30}, 'stuff': ['ali', 'veli']}\n"
     ]
    }
   ],
   "source": [
    "library= {\"kitaplar\":{\"tarih\":10,\"coğrafya\":20}, \"stuff\": [\"ali\",\"veli\"]}\n",
    "print(library)\n",
    "print(library[\"kitaplar\"][\"coğrafya\"])\n",
    "print(library[\"stuff\"][1])\n",
    "library[\"kitaplar\"][\"coğrafya\"]=5\n",
    "print(library)\n",
    "library[\"kitaplar\"][\"coğrafya\"]+=25\n",
    "print(library)\n",
    "del library[\"kitaplar\"][\"tarih\"]\n",
    "print(library)"
   ]
  },
  {
   "cell_type": "code",
   "execution_count": 5,
   "id": "70a2039f-855b-4a01-abd4-6b2696026f1e",
   "metadata": {},
   "outputs": [
    {
     "name": "stdout",
     "output_type": "stream",
     "text": [
      "<class 'set'>\n"
     ]
    },
    {
     "data": {
      "text/plain": [
       "set"
      ]
     },
     "execution_count": 5,
     "metadata": {},
     "output_type": "execute_result"
    }
   ],
   "source": [
    "c= {\"a\",\"b\",\"c\",1,2,3}\n",
    "s = set()\n",
    "print(type(c))\n",
    "type(s)"
   ]
  },
  {
   "cell_type": "code",
   "execution_count": 3,
   "id": "0a66ccb7-a57a-42a7-bd8f-4778fb6dd381",
   "metadata": {},
   "outputs": [
    {
     "name": "stdout",
     "output_type": "stream",
     "text": [
      "{1, 2, 3, 4, 5}\n"
     ]
    }
   ],
   "source": [
    "a=(1,2,3,4,4,5,1,2) \n",
    "b=set(a) # aynı elemanları siler\n",
    "print(b)"
   ]
  },
  {
   "cell_type": "code",
   "execution_count": 14,
   "id": "755e8f50-7f69-4feb-9a8a-19e741f36413",
   "metadata": {},
   "outputs": [
    {
     "name": "stdout",
     "output_type": "stream",
     "text": [
      "{' ', 'a', 'r', 'd', '!', 'k', 'b'}\n",
      "{' ', 'a', 'r', 'd', '!', 10, 'k', 'b'}\n",
      "{' ', 'a', 'r', '!', 10, 'k', 'b'}\n",
      "{' ', 'a', 'r', '!', 10, 'k', 'b'}\n"
     ]
    }
   ],
   "source": [
    "a= \"abra kadabra!\"\n",
    "\n",
    "b=set(a)\n",
    "print(b)\n",
    "b.add(10)\n",
    "print(b)\n",
    "b.remove(\"d\") # remove siler yoksa hata verir\n",
    "print(b)\n",
    "b.discard(\"j\") # discard siler yoksa hata vermez\n",
    "print(b)\n"
   ]
  },
  {
   "cell_type": "code",
   "execution_count": 10,
   "id": "a3596a0d-60a2-4bea-861e-419ba14c8481",
   "metadata": {},
   "outputs": [
    {
     "name": "stdout",
     "output_type": "stream",
     "text": [
      "{'k', 'a', 'g', 's'}\n",
      "{1, 'e', 'w', 'r', 'q'}\n"
     ]
    }
   ],
   "source": [
    "d=(\"a\",\"s\",\"d\",\"f\",\"g\",\"h\",\"j\",\"k\",\"l\",\"m\")\n",
    "b={\"q\",\"w\",\"d\",\"f\",\"e\",\"h\",\"j\",\"r\",\"l\",\"m\",1}\n",
    "\n",
    "print(set(d).difference(b)) # setlerin birbirinden farkı hızlı hesaplanır\n",
    "print(b-(set(d)))# - operatörü de aynı"
   ]
  },
  {
   "cell_type": "code",
   "execution_count": 17,
   "id": "2d8167e3-4ba2-4f2c-9583-c50ec1beeeca",
   "metadata": {},
   "outputs": [
    {
     "name": "stdout",
     "output_type": "stream",
     "text": [
      "{1, 'k', 'a', 's', 'g', 'e', 'w', 'r', 'q'}\n",
      "{'m', 'f', 'h', 'l', 'd', 'j'}\n",
      "{'m', 'f', 'h', 'l', 'd', 'j'}\n"
     ]
    }
   ],
   "source": [
    "f=set(d)\n",
    "print(f.symmetric_difference(b)) # farkların birleşimi\n",
    "print(f.intersection(b)) # kesişim kümesi\n",
    "print(f&b) # kesişim kümesi"
   ]
  },
  {
   "cell_type": "code",
   "execution_count": 19,
   "id": "ec5504dd-9e35-429c-865e-b3c523fadc20",
   "metadata": {},
   "outputs": [
    {
     "data": {
      "text/plain": [
       "{'d', 'f', 'h', 'j', 'l', 'm'}"
      ]
     },
     "execution_count": 19,
     "metadata": {},
     "output_type": "execute_result"
    }
   ],
   "source": [
    "f.intersection_update(b)\n",
    "f"
   ]
  },
  {
   "cell_type": "code",
   "execution_count": 32,
   "id": "9e5f3838-4047-4564-902a-88358e718455",
   "metadata": {},
   "outputs": [],
   "source": [
    "f.add(1)\n",
    "f.add(4)\n",
    "f.add(3)\n",
    "f.add(2)\n"
   ]
  },
  {
   "cell_type": "code",
   "execution_count": 28,
   "id": "a726094d-7533-41df-a887-2f28f90d30b0",
   "metadata": {
    "tags": []
   },
   "outputs": [
    {
     "data": {
      "text/plain": [
       "False"
      ]
     },
     "execution_count": 28,
     "metadata": {},
     "output_type": "execute_result"
    }
   ],
   "source": [
    "f.isdisjoint(b) # ortak öğeleri yok mu?"
   ]
  },
  {
   "cell_type": "code",
   "execution_count": 33,
   "id": "40cbe970-2064-4087-ba14-5c1c66a90dcf",
   "metadata": {},
   "outputs": [
    {
     "data": {
      "text/plain": [
       "False"
      ]
     },
     "execution_count": 33,
     "metadata": {},
     "output_type": "execute_result"
    }
   ],
   "source": [
    "f.issubset(b) # altkümesi mi (içeriyor mu)"
   ]
  },
  {
   "cell_type": "code",
   "execution_count": 34,
   "id": "46f9adb9-b803-4602-ae93-8922a6c0c2d7",
   "metadata": {},
   "outputs": [
    {
     "data": {
      "text/plain": [
       "False"
      ]
     },
     "execution_count": 34,
     "metadata": {},
     "output_type": "execute_result"
    }
   ],
   "source": [
    "f.issuperset(b) # üst kümesi mi (kapsıyor mu)"
   ]
  },
  {
   "cell_type": "code",
   "execution_count": 36,
   "id": "ee9b7156-9cbc-4ce4-b58e-05d8b31ee746",
   "metadata": {},
   "outputs": [
    {
     "name": "stdout",
     "output_type": "stream",
     "text": [
      "('UK', 'China', 'USA', 'France', 'New Zealand', 'UK', 'France')\n"
     ]
    }
   ],
   "source": [
    "s= (\"UK\",\"China\",\"USA\",\"France\",\"New Zealand\",\"UK\",\"France\")\n",
    "print(s)"
   ]
  },
  {
   "cell_type": "code",
   "execution_count": 39,
   "id": "495bce3c-b584-47cf-930a-0ca8d4a1ac51",
   "metadata": {},
   "outputs": [
    {
     "name": "stdout",
     "output_type": "stream",
     "text": [
      "5\n"
     ]
    }
   ],
   "source": [
    "N=len(set(s))\n",
    "print(N)"
   ]
  },
  {
   "cell_type": "code",
   "execution_count": 51,
   "id": "b1e8e63e-c332-4f61-acab-e6dc53216070",
   "metadata": {},
   "outputs": [
    {
     "name": "stdout",
     "output_type": "stream",
     "text": [
      "10 döngü içinde\n",
      "30 döngü içinde\n",
      "60 döngü içinde\n",
      "100 döngü içinde\n",
      "150 döngü içinde\n",
      "210 döngü içinde\n",
      "280 döngü içinde\n",
      "360 döngü içinde\n",
      "360 döngü dışında\n"
     ]
    }
   ],
   "source": [
    "qw=[10,20,30,40,50,60,70,80]\n",
    "top=0\n",
    "for e in qw:            # bu yöntemle değerleri değiştiremem\n",
    "    top+=e\n",
    "    print(top,\"döngü içinde\")\n",
    "print(top,\"döngü dışında\")"
   ]
  },
  {
   "cell_type": "code",
   "execution_count": 49,
   "id": "89d61713-c402-4e00-9b98-2dc95d76d25f",
   "metadata": {},
   "outputs": [
    {
     "name": "stdout",
     "output_type": "stream",
     "text": [
      "iteration: 1\n",
      "iteration: 3\n",
      "iteration: 5\n",
      "iteration: 7\n",
      "iteration: 9\n"
     ]
    }
   ],
   "source": [
    "for i in range(1,10,2):       # (1=başlangıç sayısı, 5=bitiş sayısı, 2= kaçar kaçar gideceği)\n",
    "    print(\"iteration:\",i)"
   ]
  },
  {
   "cell_type": "code",
   "execution_count": 52,
   "id": "80588ecf-87b4-41ac-9e0e-f8133abb1b2e",
   "metadata": {},
   "outputs": [
    {
     "name": "stdout",
     "output_type": "stream",
     "text": [
      "iteration: 10\n",
      "iteration: 20\n",
      "iteration: 30\n",
      "iteration: 40\n",
      "iteration: 50\n",
      "iteration: 60\n",
      "iteration: 70\n",
      "iteration: 80\n"
     ]
    }
   ],
   "source": [
    "for i in range(len(qw)):       # (1=başlangıç sayısı, 5=bitiş sayısı, 2= kaçar kaçar gideceği)\n",
    "    print(\"iteration:\",qw[i])"
   ]
  },
  {
   "cell_type": "code",
   "execution_count": 53,
   "id": "355ceafd-1bdb-4477-84ff-18cd55c52d07",
   "metadata": {},
   "outputs": [
    {
     "name": "stdout",
     "output_type": "stream",
     "text": [
      "[15, 25, 35, 45, 55, 65, 75, 85]\n"
     ]
    }
   ],
   "source": [
    "for i in range(len(qw)):       # bu yöntemle liste elemanlarını değiştirebilirim\n",
    "    qw[i]+=5\n",
    "print(qw)            "
   ]
  },
  {
   "cell_type": "code",
   "execution_count": 54,
   "id": "3866c095-f16a-4cc6-91c4-fe0a01c12f82",
   "metadata": {},
   "outputs": [
    {
     "name": "stdout",
     "output_type": "stream",
     "text": [
      "{'a': 10, 'b': 20, 'c': 30, 'd': 40}\n"
     ]
    }
   ],
   "source": [
    "er={\"a\":10,\"b\":20,\"c\":30,\"d\":40}\n",
    "print(er)"
   ]
  },
  {
   "cell_type": "code",
   "execution_count": 55,
   "id": "9d227494-34a3-41f5-9716-b6bd93fc9cf2",
   "metadata": {},
   "outputs": [
    {
     "name": "stdout",
     "output_type": "stream",
     "text": [
      "a\n",
      "10\n",
      "b\n",
      "20\n",
      "c\n",
      "30\n",
      "d\n",
      "40\n"
     ]
    }
   ],
   "source": [
    "for e in er:\n",
    "    print(e) # key değeri\n",
    "    print(er[e]) # value değeri"
   ]
  },
  {
   "cell_type": "code",
   "execution_count": 57,
   "id": "873bc918-ad79-48f9-96fd-c10486ccb852",
   "metadata": {},
   "outputs": [
    {
     "name": "stdout",
     "output_type": "stream",
     "text": [
      "10\n",
      "20\n",
      "30\n",
      "40\n"
     ]
    }
   ],
   "source": [
    "for e in er.values():\n",
    "    print(e)"
   ]
  },
  {
   "cell_type": "code",
   "execution_count": 62,
   "id": "3e39fc5d-0f66-4f17-96fb-f2ec8cf6dda2",
   "metadata": {},
   "outputs": [
    {
     "name": "stdout",
     "output_type": "stream",
     "text": [
      "c 30\n",
      "d 40\n"
     ]
    }
   ],
   "source": [
    "for k,v in er.items(): #key ve value değerleri döner\n",
    "    if v>25:\n",
    "        print(k,v)"
   ]
  },
  {
   "cell_type": "code",
   "execution_count": 64,
   "id": "ef1ecf59-3fca-452f-a808-a7f254c085c3",
   "metadata": {},
   "outputs": [
    {
     "name": "stdout",
     "output_type": "stream",
     "text": [
      "2\n"
     ]
    }
   ],
   "source": [
    "for i in range(2,5,3):\n",
    "    print(i)"
   ]
  },
  {
   "cell_type": "code",
   "execution_count": null,
   "id": "fa70c155-f528-4534-a688-3a5b6300354e",
   "metadata": {},
   "outputs": [
    {
     "data": {
      "text/plain": [
       "'this-is-a-string'"
      ]
     },
     "execution_count": 66,
     "metadata": {},
     "output_type": "execute_result"
    }
   ],
   "source": [
    "def split_and_join(line):\n",
    "    a = line.split(\" \")    # write your code here\n",
    "    b = \"-\".join(a)\n",
    "    return b\n",
    "split_and_join(\"this is a string\")"
   ]
  },
  {
   "cell_type": "markdown",
   "id": "713692fe-557d-428a-abd0-59b95ee8ff3f",
   "metadata": {},
   "source": [
    "# **comprehensions"
   ]
  },
  {
   "cell_type": "code",
   "execution_count": null,
   "id": "0aad8909-dbb9-4468-9ab7-c36faa9195d6",
   "metadata": {},
   "outputs": [
    {
     "data": {
      "text/plain": [
       "[15, 25, 35, 45, 55, 65, 75, 85, 95]"
      ]
     },
     "execution_count": 69,
     "metadata": {},
     "output_type": "execute_result"
    }
   ],
   "source": [
    "df= [i+5 for i in range(10,100,10)] # for i in  range(10,100,10)  for yapılı list\n",
    "df                                  #      i+=5"
   ]
  },
  {
   "cell_type": "code",
   "execution_count": 70,
   "id": "9fd527b3-c788-41dc-b951-de226b00073d",
   "metadata": {},
   "outputs": [
    {
     "data": {
      "text/plain": [
       "[15, 45, 75]"
      ]
     },
     "execution_count": 70,
     "metadata": {},
     "output_type": "execute_result"
    }
   ],
   "source": [
    "tr = [t for t in df if t%3==0]  # if yapılı list\n",
    "tr"
   ]
  },
  {
   "cell_type": "code",
   "execution_count": 75,
   "id": "2568da32-f68f-41f6-850e-4a078f1fcec4",
   "metadata": {},
   "outputs": [
    {
     "data": {
      "text/plain": [
       "[15,\n",
       " '25 üçe bölünmez',\n",
       " '35 üçe bölünmez',\n",
       " 45,\n",
       " '55 üçe bölünmez',\n",
       " '65 üçe bölünmez',\n",
       " 75,\n",
       " '85 üçe bölünmez',\n",
       " '95 üçe bölünmez']"
      ]
     },
     "execution_count": 75,
     "metadata": {},
     "output_type": "execute_result"
    }
   ],
   "source": [
    "sa= [x if x%3==0 else str(x)+\" üçe bölünmez\" for x in df]\n",
    "sa"
   ]
  },
  {
   "cell_type": "code",
   "execution_count": 80,
   "id": "f7f030ed-7877-4252-a24f-a66b0ef87b4b",
   "metadata": {},
   "outputs": [
    {
     "data": {
      "text/plain": [
       "['2 üçe bölünmez',\n",
       " '4 üçe bölünmez',\n",
       " '6 hem ikiye hem üçe bölünür',\n",
       " '8 üçe bölünmez',\n",
       " '10 üçe bölünmez',\n",
       " '12 hem ikiye hem üçe bölünür',\n",
       " '14 üçe bölünmez',\n",
       " '16 üçe bölünmez',\n",
       " '18 hem ikiye hem üçe bölünür',\n",
       " '20 üçe bölünmez',\n",
       " '22 üçe bölünmez',\n",
       " '24 hem ikiye hem üçe bölünür',\n",
       " '26 üçe bölünmez',\n",
       " '28 üçe bölünmez',\n",
       " '30 hem ikiye hem üçe bölünür',\n",
       " '32 üçe bölünmez',\n",
       " '34 üçe bölünmez',\n",
       " '36 hem ikiye hem üçe bölünür',\n",
       " '38 üçe bölünmez',\n",
       " '40 üçe bölünmez',\n",
       " '42 hem ikiye hem üçe bölünür',\n",
       " '44 üçe bölünmez',\n",
       " '46 üçe bölünmez',\n",
       " '48 hem ikiye hem üçe bölünür',\n",
       " '50 üçe bölünmez',\n",
       " '52 üçe bölünmez',\n",
       " '54 hem ikiye hem üçe bölünür',\n",
       " '56 üçe bölünmez',\n",
       " '58 üçe bölünmez',\n",
       " '60 hem ikiye hem üçe bölünür',\n",
       " '62 üçe bölünmez',\n",
       " '64 üçe bölünmez',\n",
       " '66 hem ikiye hem üçe bölünür',\n",
       " '68 üçe bölünmez',\n",
       " '70 üçe bölünmez',\n",
       " '72 hem ikiye hem üçe bölünür',\n",
       " '74 üçe bölünmez',\n",
       " '76 üçe bölünmez',\n",
       " '78 hem ikiye hem üçe bölünür',\n",
       " '80 üçe bölünmez',\n",
       " '82 üçe bölünmez',\n",
       " '84 hem ikiye hem üçe bölünür',\n",
       " '86 üçe bölünmez',\n",
       " '88 üçe bölünmez',\n",
       " '90 hem ikiye hem üçe bölünür',\n",
       " '92 üçe bölünmez',\n",
       " '94 üçe bölünmez',\n",
       " '96 hem ikiye hem üçe bölünür',\n",
       " '98 üçe bölünmez']"
      ]
     },
     "execution_count": 80,
     "metadata": {},
     "output_type": "execute_result"
    }
   ],
   "source": [
    "sa= [str(x)+\" hem ikiye hem üçe bölünür\" if x%3==0 else str(x)+\" üçe bölünmez\" for x in range(1,100) if x%2==0]\n",
    "sa  # önce sondaki if ile listeye eklenecek x leri belirtiyoruz. \n",
    "    #  sonra baştaki if ile x'in nasıl ekleneceğini belirttik"
   ]
  },
  {
   "cell_type": "code",
   "execution_count": 85,
   "id": "17affcdd-0405-4814-aae3-7056fd4d1ff7",
   "metadata": {},
   "outputs": [
    {
     "data": {
      "text/plain": [
       "{1, 3, 5, 7, 9}"
      ]
     },
     "execution_count": 85,
     "metadata": {},
     "output_type": "execute_result"
    }
   ],
   "source": [
    "nums = [1,2,3,4,5,6,7,8,9,2,4,5,6,7,8,9]\n",
    "oddNumbers = {n for n in nums if n%2==1}\n",
    "oddNumbers"
   ]
  },
  {
   "cell_type": "code",
   "execution_count": 87,
   "id": "134812e3-dd9b-40e0-b3ff-52610bc3ec8f",
   "metadata": {},
   "outputs": [
    {
     "name": "stdout",
     "output_type": "stream",
     "text": [
      "{1: 11, 2: 12, 3: 13, 4: 14, 5: 15, 6: 16, 7: 17, 8: 18, 9: 19}\n",
      "13\n"
     ]
    }
   ],
   "source": [
    "numsPlus= {z:z+10 for z in nums}\n",
    "print(numsPlus)\n",
    "print(numsPlus[3])"
   ]
  },
  {
   "cell_type": "markdown",
   "id": "399b691b-01d6-49fe-b4ae-f000f9ca2025",
   "metadata": {},
   "source": [
    "## nested lists"
   ]
  },
  {
   "cell_type": "code",
   "execution_count": 2,
   "id": "e81eb1e5-12e7-4244-91c7-9100d13cd6d4",
   "metadata": {},
   "outputs": [
    {
     "data": {
      "text/plain": [
       "[2, 4, 6, 1, 3, 5, 7, 8, 9]"
      ]
     },
     "execution_count": 2,
     "metadata": {},
     "output_type": "execute_result"
    }
   ],
   "source": [
    "ilkhali =[[2,4,6],[1,3,5],[7,8,9]]\n",
    "flattenSd= [tek for iclist in ilkhali for tek in iclist]\n",
    "flattenSd"
   ]
  },
  {
   "cell_type": "code",
   "execution_count": 3,
   "id": "bad11e74-0e31-494e-ba9d-d9868b5591c6",
   "metadata": {},
   "outputs": [
    {
     "data": {
      "text/plain": [
       "[1, 3, 5, 7, 9]"
      ]
     },
     "execution_count": 3,
     "metadata": {},
     "output_type": "execute_result"
    }
   ],
   "source": [
    "flattenSd= [tek for iclist in ilkhali for tek in iclist if tek%2==1]\n",
    "flattenSd"
   ]
  },
  {
   "cell_type": "markdown",
   "id": "34eff244-ffa6-408d-b46a-a24e59203623",
   "metadata": {},
   "source": [
    "###enumerate  ----------     zip"
   ]
  },
  {
   "cell_type": "code",
   "execution_count": 1,
   "id": "86d8c542-7b9f-4340-8546-d5a2abbb94b8",
   "metadata": {},
   "outputs": [
    {
     "name": "stdout",
     "output_type": "stream",
     "text": [
      "1\n",
      "2\n",
      "3\n",
      "4\n"
     ]
    }
   ],
   "source": [
    "z,x,c,v=(1,2,3,4)\n",
    "print(z)\n",
    "print(x)\n",
    "print(c)\n",
    "print(v)"
   ]
  },
  {
   "cell_type": "code",
   "execution_count": 3,
   "id": "21a08fc5-26bc-446d-9956-faf5fdd71cb4",
   "metadata": {},
   "outputs": [
    {
     "name": "stdout",
     "output_type": "stream",
     "text": [
      "1\n",
      "2\n",
      "[3, 4, 5, 6, 7]\n",
      "8\n"
     ]
    }
   ],
   "source": [
    "b,n,*m,k=(1,2,3,4,5,6,7,8)\n",
    "print(b)\n",
    "print(n)\n",
    "print(m) # tek elemanda olsa list döner [3] gibi\n",
    "print(k)"
   ]
  },
  {
   "cell_type": "code",
   "execution_count": 5,
   "id": "148c6c71-29e4-4d66-ac0e-eb53236f7d4c",
   "metadata": {},
   "outputs": [
    {
     "name": "stdout",
     "output_type": "stream",
     "text": [
      "1 ali\n",
      "2 veli\n",
      "3 49\n",
      "4 50\n"
     ]
    }
   ],
   "source": [
    "students=(\"ali\", \"veli\",49,50)\n",
    "for sira, isim in enumerate(students, start= 1):\n",
    "    print(sira,isim)"
   ]
  },
  {
   "cell_type": "code",
   "execution_count": 8,
   "id": "3f301db3-0e93-4804-a80c-a0c88d45d2f9",
   "metadata": {},
   "outputs": [
    {
     "name": "stdout",
     "output_type": "stream",
     "text": [
      "ali ist\n",
      "kim ali nerede ist\n",
      "veli ank\n",
      "kim veli nerede ank\n",
      "49 tra\n",
      "kim 49 nerede tra\n",
      "50 erz\n",
      "kim 50 nerede erz\n"
     ]
    }
   ],
   "source": [
    "sehir=[\"ist\",\"ank\",\"tra\",\"erz\"]\n",
    "for a,b in zip(students,sehir):\n",
    "    print(a,b)\n",
    "    print(f\"kim {a} nerede {b}\") # go fprint formatlı yazdırma\n",
    "    "
   ]
  },
  {
   "cell_type": "code",
   "execution_count": 10,
   "id": "22aac2c8-ca38-402f-8e75-4595028e473e",
   "metadata": {},
   "outputs": [
    {
     "data": {
      "text/plain": [
       "{'ali': 'ist', 'veli': 'ank', 49: 'tra', 50: 'erz'}"
      ]
     },
     "execution_count": 10,
     "metadata": {},
     "output_type": "execute_result"
    }
   ],
   "source": [
    "d={}\n",
    "for a,b in zip(students,sehir): \n",
    "    d[a]=b                         #dictionary oluşturma\n",
    "d"
   ]
  },
  {
   "cell_type": "code",
   "execution_count": 78,
   "id": "e2b3bf37-57a2-4d50-b51a-1016fa237066",
   "metadata": {},
   "outputs": [],
   "source": [
    "def sonuc(x):\n",
    "    \"\"\"\n",
    "    ?sonuc komutuyla bu yazıyı almak için fonksiyon başlangıcına koymalıyız\n",
    "    burada 1den x'in karesi kadar x'i index sayısına bölüp topluyoruz ve geri döndürüyoruz. \n",
    "    ayrıca func help eklemiş olduk\n",
    "    \"\"\"\n",
    "    son=0\n",
    "    for i in range(1,x**2):\n",
    "        \n",
    "        son += x/i\n",
    "        print(son)\n",
    "    return son"
   ]
  },
  {
   "cell_type": "code",
   "execution_count": 76,
   "id": "e1bc9d0b-b5f5-448a-a12a-900459829c64",
   "metadata": {},
   "outputs": [
    {
     "name": "stdout",
     "output_type": "stream",
     "text": [
      "3.0\n",
      "4.5\n",
      "5.5\n",
      "6.25\n",
      "6.85\n",
      "7.35\n",
      "7.7785714285714285\n",
      "8.153571428571428\n"
     ]
    },
    {
     "data": {
      "text/plain": [
       "8.153571428571428"
      ]
     },
     "execution_count": 76,
     "metadata": {},
     "output_type": "execute_result"
    }
   ],
   "source": [
    "sonuc(3)"
   ]
  },
  {
   "cell_type": "code",
   "execution_count": 79,
   "id": "8ee52c61-3246-4af8-9f54-0010171493a6",
   "metadata": {},
   "outputs": [
    {
     "data": {
      "text/plain": [
       "\u001b[1;31mSignature:\u001b[0m \u001b[0msonuc\u001b[0m\u001b[1;33m(\u001b[0m\u001b[0mx\u001b[0m\u001b[1;33m)\u001b[0m\u001b[1;33m\u001b[0m\u001b[1;33m\u001b[0m\u001b[0m\n",
       "\u001b[1;31mDocstring:\u001b[0m\n",
       "?sonuc komutuyla bu yazıyı almak için fonksiyon başlangıcına koymalıyız\n",
       "burada 1den x'in karesi kadar x'i index sayısına bölüp topluyoruz ve geri döndürüyoruz. \n",
       "ayrıca func help eklemiş olduk\n",
       "\u001b[1;31mFile:\u001b[0m      c:\\users\\peyka\\appdata\\local\\temp\\ipykernel_22452\\3492117546.py\n",
       "\u001b[1;31mType:\u001b[0m      function\n"
      ]
     },
     "metadata": {},
     "output_type": "display_data"
    }
   ],
   "source": [
    "?sonuc"
   ]
  },
  {
   "cell_type": "code",
   "execution_count": 65,
   "id": "c5210e6f-f68c-4ea4-a1b8-502b8066cef0",
   "metadata": {},
   "outputs": [
    {
     "data": {
      "text/plain": [
       "\u001b[1;31mSignature:\u001b[0m \u001b[0msonuc\u001b[0m\u001b[1;33m(\u001b[0m\u001b[0mx\u001b[0m\u001b[1;33m)\u001b[0m\u001b[1;33m\u001b[0m\u001b[1;33m\u001b[0m\u001b[0m\n",
       "\u001b[1;31mDocstring:\u001b[0m <no docstring>\n",
       "\u001b[1;31mSource:\u001b[0m   \n",
       "\u001b[1;32mdef\u001b[0m \u001b[0msonuc\u001b[0m\u001b[1;33m(\u001b[0m\u001b[0mx\u001b[0m\u001b[1;33m)\u001b[0m\u001b[1;33m:\u001b[0m\u001b[1;33m\n",
       "\u001b[0m    \u001b[0mson\u001b[0m\u001b[1;33m=\u001b[0m\u001b[1;36m0\u001b[0m\u001b[1;33m\n",
       "\u001b[0m    \u001b[1;32mfor\u001b[0m \u001b[0mi\u001b[0m \u001b[1;32min\u001b[0m \u001b[0mrange\u001b[0m\u001b[1;33m(\u001b[0m\u001b[1;36m1\u001b[0m\u001b[1;33m,\u001b[0m\u001b[0mx\u001b[0m\u001b[1;33m**\u001b[0m\u001b[1;36m2\u001b[0m\u001b[1;33m)\u001b[0m\u001b[1;33m:\u001b[0m\u001b[1;33m\n",
       "\u001b[0m        \u001b[1;34m\"\"\"\n",
       "        burada 1den x'inkaresi kadar x'i index sayısına bölüp topluyoruz ve geri döndürüyoruz. \n",
       "        ayrıca func help eklemiş olduk\n",
       "        \"\"\"\u001b[0m\u001b[1;33m\n",
       "\u001b[0m        \u001b[0mson\u001b[0m \u001b[1;33m+=\u001b[0m \u001b[0mx\u001b[0m\u001b[1;33m/\u001b[0m\u001b[0mi\u001b[0m\u001b[1;33m\n",
       "\u001b[0m        \u001b[0mprint\u001b[0m\u001b[1;33m(\u001b[0m\u001b[0mson\u001b[0m\u001b[1;33m)\u001b[0m\u001b[1;33m\n",
       "\u001b[0m    \u001b[1;32mreturn\u001b[0m \u001b[0mson\u001b[0m\u001b[1;33m\u001b[0m\u001b[1;33m\u001b[0m\u001b[0m\n",
       "\u001b[1;31mFile:\u001b[0m      c:\\users\\peyka\\appdata\\local\\temp\\ipykernel_22452\\610468604.py\n",
       "\u001b[1;31mType:\u001b[0m      function\n"
      ]
     },
     "metadata": {},
     "output_type": "display_data"
    }
   ],
   "source": [
    "??sonuc"
   ]
  },
  {
   "cell_type": "code",
   "execution_count": 4,
   "id": "afef4a1b-d17d-4543-9d56-2c1c48daa7ac",
   "metadata": {},
   "outputs": [
    {
     "name": "stdout",
     "output_type": "stream",
     "text": [
      "1\n",
      "6\n"
     ]
    }
   ],
   "source": [
    "n=5\n",
    "for i in (1,n+1):\n",
    "    print(i)"
   ]
  },
  {
   "cell_type": "code",
   "execution_count": null,
   "id": "7fb11fad-3f7c-49d5-960c-b82637df14de",
   "metadata": {},
   "outputs": [],
   "source": []
  }
 ],
 "metadata": {
  "kernelspec": {
   "display_name": "Python 3 (ipykernel)",
   "language": "python",
   "name": "python3"
  },
  "language_info": {
   "codemirror_mode": {
    "name": "ipython",
    "version": 3
   },
   "file_extension": ".py",
   "mimetype": "text/x-python",
   "name": "python",
   "nbconvert_exporter": "python",
   "pygments_lexer": "ipython3",
   "version": "3.10.2"
  }
 },
 "nbformat": 4,
 "nbformat_minor": 5
}
