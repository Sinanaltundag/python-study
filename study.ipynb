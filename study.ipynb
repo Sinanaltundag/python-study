{
 "cells": [
  {
   "cell_type": "code",
   "execution_count": 1,
   "id": "ac954e3f-1200-4a89-a915-099ee84b5ba5",
   "metadata": {},
   "outputs": [
    {
     "name": "stdout",
     "output_type": "stream",
     "text": [
      "ilk ders\n"
     ]
    }
   ],
   "source": [
    "print (\"ilk ders\")"
   ]
  },
  {
   "cell_type": "code",
   "execution_count": 2,
   "id": "1d258e9a-16ed-4dbb-ab8e-2a5a19c2ec0e",
   "metadata": {},
   "outputs": [
    {
     "name": "stdout",
     "output_type": "stream",
     "text": [
      "Hello Hello Hello Hello \n"
     ]
    }
   ],
   "source": [
    "str= \"Hello \"\n",
    "print (str*4)"
   ]
  },
  {
   "cell_type": "markdown",
   "id": "e9bcc91a-bf49-447d-8c68-d22e8e59cb13",
   "metadata": {},
   "source": [
    "##üstteki hücreler altta geçerli"
   ]
  },
  {
   "cell_type": "code",
   "execution_count": 3,
   "id": "447baeaf-5dea-4993-85c8-13b4e2e6a956",
   "metadata": {},
   "outputs": [
    {
     "data": {
      "text/plain": [
       "6"
      ]
     },
     "execution_count": 3,
     "metadata": {},
     "output_type": "execute_result"
    }
   ],
   "source": [
    "len(str)"
   ]
  },
  {
   "cell_type": "code",
   "execution_count": 2,
   "id": "aad47661-f955-4a9e-ab2c-2dc37894fd94",
   "metadata": {},
   "outputs": [
    {
     "data": {
      "text/plain": [
       "5.3"
      ]
     },
     "execution_count": 2,
     "metadata": {},
     "output_type": "execute_result"
    }
   ],
   "source": [
    "int(\"3\")\n"
   ]
  },
  {
   "cell_type": "code",
   "execution_count": 25,
   "id": "21e6b7ae-758e-4483-b91f-417ae6ddacec",
   "metadata": {
    "tags": []
   },
   "outputs": [
    {
     "name": "stdout",
     "output_type": "stream",
     "text": [
      "ello \n"
     ]
    }
   ],
   "source": [
    "print (str[1:len(str)])"
   ]
  },
  {
   "cell_type": "code",
   "execution_count": 3,
   "id": "9158a76f-7122-48c5-9b46-2c5c68b6cbce",
   "metadata": {},
   "outputs": [
    {
     "data": {
      "text/plain": [
       "5.3"
      ]
     },
     "execution_count": 3,
     "metadata": {},
     "output_type": "execute_result"
    }
   ],
   "source": [
    "float(\"5.3\")"
   ]
  },
  {
   "cell_type": "code",
   "execution_count": 8,
   "id": "833151b0-c893-4ddf-8591-61df4d0c9a02",
   "metadata": {},
   "outputs": [
    {
     "name": "stdin",
     "output_type": "stream",
     "text": [
      "bir sayı girin 3\n",
      "bir sayı daha girin 5\n"
     ]
    },
    {
     "data": {
      "text/plain": [
       "8"
      ]
     },
     "execution_count": 8,
     "metadata": {},
     "output_type": "execute_result"
    }
   ],
   "source": [
    "x= input(\"bir sayı girin\")  #x string\n",
    "int(x)+int(input(\"bir sayı daha girin\"))"
   ]
  },
  {
   "cell_type": "code",
   "execution_count": 13,
   "id": "5cf3624a-22df-4fbd-9620-fddac2b12c48",
   "metadata": {},
   "outputs": [
    {
     "name": "stdout",
     "output_type": "stream",
     "text": [
      "0.30000000000000004\n"
     ]
    },
    {
     "data": {
      "text/plain": [
       "False"
      ]
     },
     "execution_count": 13,
     "metadata": {},
     "output_type": "execute_result"
    }
   ],
   "source": [
    "print(0.1 * 3) # floatlarda karşılaştırma yaparken hata verebilir\n",
    "(0.1 * 3)==0.3"
   ]
  },
  {
   "cell_type": "code",
   "execution_count": 16,
   "id": "042aa1cd-21ad-4050-be89-4614291eb635",
   "metadata": {},
   "outputs": [
    {
     "data": {
      "text/plain": [
       "False"
      ]
     },
     "execution_count": 16,
     "metadata": {},
     "output_type": "execute_result"
    }
   ],
   "source": [
    "1==1 and 2==1"
   ]
  },
  {
   "cell_type": "code",
   "execution_count": 18,
   "id": "649f3806-2861-4b90-a5cf-bded48c576a4",
   "metadata": {},
   "outputs": [
    {
     "data": {
      "text/plain": [
       "True"
      ]
     },
     "execution_count": 18,
     "metadata": {},
     "output_type": "execute_result"
    }
   ],
   "source": [
    "1==1 or 2==1"
   ]
  },
  {
   "cell_type": "code",
   "execution_count": 19,
   "id": "f0682d68-12c4-46a1-bf55-6a87a7e1c16f",
   "metadata": {},
   "outputs": [
    {
     "data": {
      "text/plain": [
       "False"
      ]
     },
     "execution_count": 19,
     "metadata": {},
     "output_type": "execute_result"
    }
   ],
   "source": [
    "not 1==1"
   ]
  },
  {
   "cell_type": "code",
   "execution_count": 48,
   "id": "ac2d71ee-a166-49f2-b1e8-9345a02dfaa2",
   "metadata": {},
   "outputs": [
    {
     "name": "stdin",
     "output_type": "stream",
     "text": [
      "bir sayı gir 3\n"
     ]
    },
    {
     "name": "stdout",
     "output_type": "stream",
     "text": [
      "tek sayı\n"
     ]
    }
   ],
   "source": [
    "x=int(input(\"bir sayı gir\"))\n",
    "\n",
    "if x%2 == 0 :\n",
    "    print(\"çift sayı\")\n",
    "else  : \n",
    "    print(\"tek sayı\")\n"
   ]
  },
  {
   "cell_type": "code",
   "execution_count": 46,
   "id": "de0a1c02-abd0-451d-a2a8-02e49212fa4d",
   "metadata": {},
   "outputs": [
    {
     "name": "stdin",
     "output_type": "stream",
     "text": [
      "sayı gir 23\n"
     ]
    }
   ],
   "source": [
    "x=int(input(\"sayı gir\"))\n",
    "if x>100:\n",
    "      \n",
    "    if x%2==0:\n",
    "            print(\"100den büyük çift sayı\")\n",
    "else:\n",
    "     \n",
    "        if x%2==0:\n",
    "            print(\"hem küçük hemde çift\")\n",
    "       "
   ]
  }
 ],
 "metadata": {
  "kernelspec": {
   "display_name": "Python 3 (ipykernel)",
   "language": "python",
   "name": "python3"
  },
  "language_info": {
   "codemirror_mode": {
    "name": "ipython",
    "version": 3
   },
   "file_extension": ".py",
   "mimetype": "text/x-python",
   "name": "python",
   "nbconvert_exporter": "python",
   "pygments_lexer": "ipython3",
   "version": "3.10.2"
  }
 },
 "nbformat": 4,
 "nbformat_minor": 5
}
