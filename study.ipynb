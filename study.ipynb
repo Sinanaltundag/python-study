{
 "cells": [
  {
   "cell_type": "code",
   "execution_count": 1,
   "id": "ac954e3f-1200-4a89-a915-099ee84b5ba5",
   "metadata": {},
   "outputs": [
    {
     "name": "stdout",
     "output_type": "stream",
     "text": [
      "ilk ders\n"
     ]
    }
   ],
   "source": [
    "print (\"ilk ders\")"
   ]
  },
  {
   "cell_type": "code",
   "execution_count": null,
   "id": "1d258e9a-16ed-4dbb-ab8e-2a5a19c2ec0e",
   "metadata": {},
   "outputs": [],
   "source": []
  }
 ],
 "metadata": {
  "kernelspec": {
   "display_name": "Python 3 (ipykernel)",
   "language": "python",
   "name": "python3"
  },
  "language_info": {
   "codemirror_mode": {
    "name": "ipython",
    "version": 3
   },
   "file_extension": ".py",
   "mimetype": "text/x-python",
   "name": "python",
   "nbconvert_exporter": "python",
   "pygments_lexer": "ipython3",
   "version": "3.10.2"
  }
 },
 "nbformat": 4,
 "nbformat_minor": 5
}
