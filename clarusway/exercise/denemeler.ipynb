{
 "cells": [
  {
   "cell_type": "code",
   "execution_count": 1,
   "metadata": {},
   "outputs": [],
   "source": [
    "# import random\n",
    "# class Employee:\n",
    "\n",
    "#     def __init__(self, first, last, pay):\n",
    "#         self.first = first\n",
    "#         self.last = last\n",
    "#         self.email = first + '.' + last + '@email.com'\n",
    "#         self.pay = pay\n",
    "\n",
    "#     def fullname(self):\n",
    "#         return '{} {}'.format(self.first, self.last)\n",
    "#     def changeEmail(self):\n",
    "#         newEmail = input('Change your email')\n",
    "#         return \"{}_{}@{}\".format(newEmail, random.randbytes(1), \"email.com\")\n",
    "\n",
    "# emp_1 = Employee('Corey', 'Schafer', 50000)\n",
    "# emp_2 = Employee('Test', 'Employee', 60000)"
   ]
  },
  {
   "cell_type": "code",
   "execution_count": 2,
   "metadata": {},
   "outputs": [],
   "source": [
    "# print(emp_1.fullname())"
   ]
  },
  {
   "cell_type": "code",
   "execution_count": 3,
   "metadata": {},
   "outputs": [],
   "source": [
    "# print(emp_1.email)"
   ]
  },
  {
   "cell_type": "code",
   "execution_count": 4,
   "metadata": {},
   "outputs": [],
   "source": [
    "# emp_1.changeEmail()"
   ]
  },
  {
   "cell_type": "code",
   "execution_count": 5,
   "metadata": {},
   "outputs": [],
   "source": [
    "def unluUyumu(word):\n",
    "    if word.find(\"a\"):\n",
    "        print(word)"
   ]
  },
  {
   "cell_type": "code",
   "execution_count": 6,
   "metadata": {},
   "outputs": [
    {
     "name": "stdout",
     "output_type": "stream",
     "text": [
      "kitap\n"
     ]
    }
   ],
   "source": [
    "unluUyumu(\"kitap\")"
   ]
  },
  {
   "cell_type": "code",
   "execution_count": 7,
   "metadata": {},
   "outputs": [],
   "source": [
    "def unluUyumu2(word):\n",
    "    for i in word:\n",
    "        if i==\"a\" or i==\"ı\" or i==\"o\" or i==\"u\":\n",
    "            if i==\"e\" or i==\"i\" or i==\"ö\" or i==\"ü\":\n",
    "                print(\"uyumsuz\")\n",
    "            else:\n",
    "                print(\"uyumlu\")"
   ]
  },
  {
   "cell_type": "code",
   "execution_count": 8,
   "metadata": {},
   "outputs": [
    {
     "name": "stdout",
     "output_type": "stream",
     "text": [
      "uyumlu\n",
      "uyumlu\n",
      "uyumlu\n"
     ]
    }
   ],
   "source": [
    "unluUyumu2(\"okul\")\n",
    "unluUyumu2(\"kitap\")"
   ]
  },
  {
   "cell_type": "code",
   "execution_count": 9,
   "metadata": {},
   "outputs": [
    {
     "name": "stdout",
     "output_type": "stream",
     "text": [
      "akıl uyumlu\n",
      "kitap uyumsuz\n",
      "istanbul uyumsuz\n",
      "ezik uyumlu\n"
     ]
    }
   ],
   "source": [
    "def unluUyumu(word):\n",
    "    if \"a\" in word or \"ı\" in word or \"o\" in word or \"u\" in word:\n",
    "        if \"e\" in word or \"i\" in word or \"ö\" in word or \"ü\" in word:\n",
    "            print(f\"{word} uyumsuz\")\n",
    "        else:\n",
    "            print(f\"{word} uyumlu\")\n",
    "    else:\n",
    "        print(f\"{word} uyumlu\")\n",
    "\n",
    "unluUyumu(\"akıl\")\n",
    "unluUyumu(\"kitap\")\n",
    "unluUyumu(\"istanbul\")\n",
    "unluUyumu(\"ezik\")"
   ]
  },
  {
   "cell_type": "code",
   "execution_count": 13,
   "metadata": {},
   "outputs": [
    {
     "name": "stdout",
     "output_type": "stream",
     "text": [
      "30\n",
      "27\n"
     ]
    }
   ],
   "source": [
    "def sum(list1):\n",
    "    temp =[]\n",
    "    result = 0\n",
    "    for i in range(len(list1)):\n",
    "        if list1[i] == \"C\":\n",
    "            temp.pop()\n",
    "            # print(list1)\n",
    "        elif list1[i] == \"D\":\n",
    "            temp.append(temp[-1]*2)\n",
    "        elif list1[i] == \"+\":\n",
    "            temp.append(temp[-1]+temp[-2])\n",
    "        else:\n",
    "            temp.append(int(list1[i]))\n",
    "    for i in temp:\n",
    "        result += i\n",
    "    return result\n",
    "\n",
    "    \n",
    "\n",
    "print(sum([\"5\",\"2\",\"C\",\"D\", \"+\"]))\n",
    "print(sum([\"5\",\"-2\",\"4\",\"C\", \"D\", \"9\", \"+\", \"+\"]))\n",
    "\n"
   ]
  },
  {
   "cell_type": "code",
   "execution_count": 1,
   "metadata": {},
   "outputs": [
    {
     "name": "stdout",
     "output_type": "stream",
     "text": [
      "10\n"
     ]
    }
   ],
   "source": [
    "print(int(num1:=input())*int(num2:=input()))"
   ]
  },
  {
   "cell_type": "code",
   "execution_count": null,
   "metadata": {},
   "outputs": [],
   "source": [
    "https://em3.snipcart.com/ls/click?upn=74oH-2B-2B5T3YmyEEVLmerMRhDLvlRhpl3-2FRL3u1z5ewjhjh5IsRf8bV2pxMibGUkIanQBioiKwe4l4r6AB8D1x-2FO8bSvYdzVOn9nLbpprY7sRtN8Wda5WISmQVG-2BBkzk-2BfDGbrcu7KETs5mUJiqLEvVw-3D-3Db8o1_IhY4TO2fbRl0X2VoNuR1sjb9NCoFTEPZAWhGNlxCIODsQdY8gXzIDSSTTtVs8dSfvydNzA5AKitr5WipAtwcfCKkTHhpu3hBXXoS-2BICUcVPAcy9TBATrVzWXSomEdj2eFfli2-2FR3hw0e9vdIkESP6FhRdzkCl-2FpIKayyskS-2BEBEh0kQcw2fimZWS0kP7r22lJIfNMmjwkxl2fVqmZmQbca1ItPVE6Mn54efVsjZGhD9vtvYInUDJM5Yt2USuizNbIR6mzN7kEw1Zl92C0Ajjo220eCSh-2BrtNFwAZw66jb9A-3D"
   ]
  }
 ],
 "metadata": {
  "interpreter": {
   "hash": "37eadf006269a09e83806bee64c447f7a310dadfd7fdb93284a24a7d184fe87a"
  },
  "kernelspec": {
   "display_name": "Python 3.10.2 64-bit",
   "language": "python",
   "name": "python3"
  },
  "language_info": {
   "codemirror_mode": {
    "name": "ipython",
    "version": 3
   },
   "file_extension": ".py",
   "mimetype": "text/x-python",
   "name": "python",
   "nbconvert_exporter": "python",
   "pygments_lexer": "ipython3",
   "version": "3.10.2"
  },
  "orig_nbformat": 4
 },
 "nbformat": 4,
 "nbformat_minor": 2
}
