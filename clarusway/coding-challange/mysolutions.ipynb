{
 "cells": [
  {
   "cell_type": "code",
   "execution_count": null,
   "metadata": {},
   "outputs": [],
   "source": []
  },
  {
   "cell_type": "markdown",
   "metadata": {},
   "source": [
    "#BASEBALL GAME\n",
    "###You are keeping score for a baseball game with strange rules. The game consist of several rounds, where the\n",
    "scores of past rounds may affect future rounds' scores.\n",
    "- At the beginning of the game, you start with an empty record. You are given a list of strings ops, where\n",
    "ops[i] is the ith operation you must apply to the record and is one of the following:\n",
    "-- An integer x - Record a new score of x,\n",
    "- \"+\" - Record a new score that is the sum of the previous scores. It is guaranteed there will always be\n",
    "two previous scores.\n",
    "- \"D\" - Record a new score that is double the previous score. It is guaranteed there will always be a\n",
    "previous score.\n",
    "- \"C\" - Invalidate the pevious score, removing it from the record. It is guaranteed there will always be a\n",
    "previous score.\n",
    "Return the sum of all the scores on the record."
   ]
  },
  {
   "cell_type": "code",
   "execution_count": 2,
   "metadata": {},
   "outputs": [
    {
     "name": "stdout",
     "output_type": "stream",
     "text": [
      "30\n",
      "27\n"
     ]
    }
   ],
   "source": [
    "def sum(list1):\n",
    "    temp =[]\n",
    "    result = 0\n",
    "    for i in range(len(list1)):\n",
    "        if list1[i] == \"C\":\n",
    "            temp.pop()\n",
    "            # print(list1)\n",
    "        elif list1[i] == \"D\":\n",
    "            temp.append(temp[-1]*2)\n",
    "        elif list1[i] == \"+\":\n",
    "            temp.append(temp[-1]+temp[-2])\n",
    "        else:\n",
    "            temp.append(int(list1[i]))\n",
    "    for i in temp:\n",
    "        result += i\n",
    "    return result\n",
    "\n",
    "    \n",
    "\n",
    "print(sum([\"5\",\"2\",\"C\",\"D\", \"+\"]))\n",
    "print(sum([\"5\",\"-2\",\"4\",\"C\", \"D\", \"9\", \"+\", \"+\"]))"
   ]
  },
  {
   "cell_type": "markdown",
   "metadata": {},
   "source": [
    "1. Büyük Ünlü Uyumu\n",
    " Parametre olarak verilen sözcüğün büyük ünlü uyumuna uyup uymadığını dönen bir işlev yazınız.\n"
   ]
  },
  {
   "cell_type": "code",
   "execution_count": 1,
   "metadata": {},
   "outputs": [],
   "source": [
    "def unluUyumu(word):\n",
    "    if \"a\" in word or \"ı\" in word or \"o\" in word or \"u\" in word:\n",
    "        if \"e\" in word or \"i\" in word or \"ö\" in word or \"ü\" in word:\n",
    "            print(f\"{word} uyumsuz\")\n",
    "        else:\n",
    "            print(f\"{word} uyumlu\")\n",
    "    else:\n",
    "        print(f\"{word} uyumlu\")"
   ]
  },
  {
   "cell_type": "markdown",
   "metadata": {},
   "source": [
    "Task\n",
    "The provided code stub reads and integer, , from STDIN. For all non-negative integers , print .\n",
    "example n= 3\n",
    "\n",
    "\n",
    "The list of non-negative integers that are less than n=3 is [0,1,2] . Print the square of each number on a separate line."
   ]
  },
  {
   "cell_type": "code",
   "execution_count": 3,
   "metadata": {},
   "outputs": [
    {
     "name": "stdout",
     "output_type": "stream",
     "text": [
      "[0, 1, 4, 9, 16]\n"
     ]
    }
   ],
   "source": [
    "def square(n):\n",
    "    list1= list(range(n))\n",
    "    list2=[]\n",
    "    for i in list1:\n",
    "        list2.append(i**2)\n",
    "    print(list2)\n",
    "square(5)\n"
   ]
  },
  {
   "cell_type": "markdown",
   "metadata": {},
   "source": [
    "Consider a list (list = []). You can perform the following commands:\n",
    "\n",
    "insert i e: Insert integer  at position .\n",
    "print: Print the list.\n",
    "remove e: Delete the first occurrence of integer .\n",
    "append e: Insert integer  at the end of the list.\n",
    "sort: Sort the list.\n",
    "pop: Pop the last element from the list.\n",
    "reverse: Reverse the list.\n",
    "Initialize your list and read in the value of  followed by  lines of commands where each command will be of the  types listed above. Iterate through each command in order and perform the corresponding operation on your list."
   ]
  },
  {
   "cell_type": "code",
   "execution_count": 12,
   "metadata": {},
   "outputs": [
    {
     "name": "stdout",
     "output_type": "stream",
     "text": [
      "-6644214454873602895\n"
     ]
    }
   ],
   "source": [
    "def hashC(n):\n",
    "    t= tuple(list(range(1,n)))\n",
    "    print(hash(t))\n",
    "hashC(2)"
   ]
  },
  {
   "cell_type": "code",
   "execution_count": 19,
   "metadata": {},
   "outputs": [
    {
     "name": "stdout",
     "output_type": "stream",
     "text": [
      "-860454829093830431\n"
     ]
    }
   ],
   "source": [
    "if __name__ == '__main__':\n",
    "    n = int(input())\n",
    "    integer_list = map(int, input().split())\n",
    "    print(hash(tuple(integer_list)))"
   ]
  },
  {
   "cell_type": "markdown",
   "metadata": {},
   "source": [
    "###If we want to add a single element to an existing set, we can use the .add() operation.\n",
    "It adds the element to the set and returns 'None'.\n",
    "\n",
    "###Example\n",
    "\n",
    ">>> s = set('HackerRank')\n",
    ">>> s.add('H')\n",
    ">>> print s\n",
    "set(['a', 'c', 'e', 'H', 'k', 'n', 'r', 'R'])\n",
    ">>> print s.add('HackerRank')\n",
    "None\n",
    ">>> print s\n",
    "set(['a', 'c', 'e', 'HackerRank', 'H', 'k', 'n', 'r', 'R'])\n",
    "\n",
    "###Task\n",
    "\n",
    "###Apply your knowledge of the .add() operation to help your friend Rupal.\n",
    "\n",
    "###Rupal has a huge collection of country stamps. She decided to count the total number of distinct country stamps in her collection. She asked for your help. You pick the stamps one by one from a stack of  country stamps.\n",
    "\n",
    "###Find the total number of distinct country stamps.\n",
    "\n",
    "Input Format\n",
    "\n",
    "The first line contains an integer N, the total number of country stamps.\n",
    "The next N lines contains the name of the country where the stamp is from.\n",
    "\n",
    "\n",
    "###Output Format\n",
    "\n",
    "Output the total number of distinct country stamps on a single line.\n",
    "\n",
    "Sample Input\n",
    "\n",
    "7\n",
    "UK\n",
    "China\n",
    "USA\n",
    "France\n",
    "New Zealand\n",
    "UK\n",
    "France \n",
    "Sample Output\n",
    "\n",
    "5\n",
    "Explanation\n",
    "\n",
    "UK and France repeat twice. Hence, the total number of distinct country stamps is  (five)."
   ]
  },
  {
   "cell_type": "code",
   "execution_count": 21,
   "metadata": {},
   "outputs": [
    {
     "name": "stdout",
     "output_type": "stream",
     "text": [
      "2\n"
     ]
    }
   ],
   "source": [
    "n = int(input())\n",
    "s= set()\n",
    "for i in range(n):\n",
    "    s.add(input())\n",
    "print(len(s))\n"
   ]
  },
  {
   "cell_type": "code",
   "execution_count": 23,
   "metadata": {},
   "outputs": [
    {
     "name": "stdout",
     "output_type": "stream",
     "text": [
      "deneme\n"
     ]
    }
   ],
   "source": [
    "eval(input())"
   ]
  },
  {
   "cell_type": "code",
   "execution_count": 35,
   "metadata": {},
   "outputs": [
    {
     "name": "stdout",
     "output_type": "stream",
     "text": [
      "[[0, 0, 0], [0, 0, 1], [0, 1, 0], [1, 0, 0], [1, 1, 1]]\n"
     ]
    }
   ],
   "source": [
    "x=1\n",
    "y=1\n",
    "z=1\n",
    "n=2\n",
    "print ([[a,b,c] for a in range(x+1) for b in range(y+1) for c in range(z+1) if a + b + c != n ])"
   ]
  },
  {
   "cell_type": "code",
   "execution_count": 46,
   "metadata": {},
   "outputs": [
    {
     "name": "stdout",
     "output_type": "stream",
     "text": [
      "5\n"
     ]
    }
   ],
   "source": [
    "#runnerup score\n",
    "list3=[2,3,6,6,5]\n",
    "sss=list(set(list3))\n",
    "sss\n",
    "print(sss[-2])\n"
   ]
  },
  {
   "cell_type": "code",
   "execution_count": 84,
   "metadata": {},
   "outputs": [
    {
     "name": "stdout",
     "output_type": "stream",
     "text": [
      "[['Tina', 37.2], ['Harry', 37.21], ['Berry', 37.21], ['Harsh', 39], ['Akriti', 41]]\n",
      "Berry\n",
      "Harry\n"
     ]
    }
   ],
   "source": [
    "students = [['Harry', 37.21], ['Berry', 37.21], ['Tina', 37.2], ['Akriti', 41], ['Harsh', 39]]\n",
    "students.sort(key=lambda score : score[1])\n",
    "print(students)\n",
    "newlist=[]\n",
    "lowest= students[0][1]\n",
    "for i in students:\n",
    "    if i[1] == lowest:\n",
    "        students.pop(0)\n",
    "for i in students:\n",
    "    if i[1] == students[0][1]:\n",
    "        newlist.append(i[0])\n",
    "    \n",
    "for i in sorted(newlist):\n",
    "    print(i)\n"
   ]
  },
  {
   "cell_type": "markdown",
   "metadata": {},
   "source": [
    "find students who has second lowest score and print sorted list"
   ]
  },
  {
   "cell_type": "code",
   "execution_count": 87,
   "metadata": {},
   "outputs": [
    {
     "name": "stdout",
     "output_type": "stream",
     "text": [
      "bbb\n"
     ]
    }
   ],
   "source": [
    "list1=[]\n",
    "scores=[]\n",
    "if __name__ == '__main__':\n",
    "    for _ in range(int(input())):\n",
    "        name = input()\n",
    "        score = float(input())\n",
    "        list1.append([name,score])\n",
    "        scores.append(score)\n",
    "list1.sort(key=lambda x:x[1])\n",
    "list2=[]\n",
    "lowest2= sorted(list(set(scores)))[1]\n",
    "# for i in list1:\n",
    "#     if i[1]== lowest:\n",
    "#         list1.pop(0)\n",
    "for i in list1:\n",
    "    if i[1]== lowest2:\n",
    "        list2.append(i[0])\n",
    "for i in sorted(list2):\n",
    "    print(i)\n"
   ]
  },
  {
   "cell_type": "markdown",
   "metadata": {},
   "source": [
    "change letters upper or vice versa"
   ]
  },
  {
   "cell_type": "code",
   "execution_count": 100,
   "metadata": {},
   "outputs": [
    {
     "name": "stdout",
     "output_type": "stream",
     "text": [
      "dEnEME\n"
     ]
    }
   ],
   "source": [
    "a= \"DeNeme\"\n",
    "print(a.swapcase())"
   ]
  },
  {
   "cell_type": "markdown",
   "metadata": {},
   "source": [
    "change strings positioned letter"
   ]
  },
  {
   "cell_type": "code",
   "execution_count": 101,
   "metadata": {},
   "outputs": [
    {
     "name": "stdout",
     "output_type": "stream",
     "text": [
      "ala\n"
     ]
    }
   ],
   "source": [
    "def mutate_string(string, position, character):\n",
    "    string= string[:position]+character+string[position+1:]\n",
    "    return string\n",
    "print(mutate_string(\"ali\",2,\"a\"))"
   ]
  },
  {
   "cell_type": "markdown",
   "metadata": {},
   "source": [
    "Find a string how many"
   ]
  },
  {
   "cell_type": "code",
   "execution_count": 116,
   "metadata": {},
   "outputs": [
    {
     "data": {
      "text/plain": [
       "1"
      ]
     },
     "execution_count": 116,
     "metadata": {},
     "output_type": "execute_result"
    }
   ],
   "source": [
    "def count_substring(string, sub_string):\n",
    "    i=string.find(sub_string)\n",
    "    if i == -1:\n",
    "        return 0\n",
    "    count=0\n",
    "    while i != -1:\n",
    "        i=string.find(sub_string,i+1)\n",
    "        count+=1\n",
    "    return count\n",
    "count_substring(\"endenemen\", \"end\")"
   ]
  },
  {
   "cell_type": "markdown",
   "metadata": {},
   "source": [
    "wrap string"
   ]
  },
  {
   "cell_type": "code",
   "execution_count": 123,
   "metadata": {},
   "outputs": [
    {
     "name": "stdout",
     "output_type": "stream",
     "text": [
      "vfd\n",
      "svj\n",
      "kdp\n",
      "fak\n",
      "mvp\n",
      "a\n"
     ]
    }
   ],
   "source": [
    "# def wrap(string=\"ıkofgjsdjgeod\", max_width=3):\n",
    "#     string\n",
    "#     return\n",
    "a=\"vfdsvjkdpfakmvpa\"\n",
    "b=\"\"\n",
    "count=0\n",
    "for i in a:\n",
    "    if(count>0 and count%3==0):\n",
    "        b+=\"\\n\"\n",
    "    count+=1\n",
    "    b+=i\n",
    "print(b)"
   ]
  },
  {
   "cell_type": "code",
   "execution_count": 129,
   "metadata": {},
   "outputs": [
    {
     "ename": "ValueError",
     "evalue": "not enough values to unpack (expected 2, got 1)",
     "output_type": "error",
     "traceback": [
      "\u001b[1;31m---------------------------------------------------------------------------\u001b[0m",
      "\u001b[1;31mValueError\u001b[0m                                Traceback (most recent call last)",
      "\u001b[1;32mc:\\Users\\peyka\\python\\python-study\\clarusway\\coding-challange\\mysolutions.ipynb Cell 27'\u001b[0m in \u001b[0;36m<module>\u001b[1;34m\u001b[0m\n\u001b[1;32m----> <a href='vscode-notebook-cell:/c%3A/Users/peyka/python/python-study/clarusway/coding-challange/mysolutions.ipynb#ch0000036?line=0'>1</a>\u001b[0m n, m \u001b[39m=\u001b[39m \u001b[39mmap\u001b[39m(\u001b[39mint\u001b[39m,\u001b[39minput\u001b[39m()\u001b[39m.\u001b[39msplit())\n\u001b[0;32m      <a href='vscode-notebook-cell:/c%3A/Users/peyka/python/python-study/clarusway/coding-challange/mysolutions.ipynb#ch0000036?line=1'>2</a>\u001b[0m pattern \u001b[39m=\u001b[39m [(\u001b[39m'\u001b[39m\u001b[39m.|.\u001b[39m\u001b[39m'\u001b[39m\u001b[39m*\u001b[39m(\u001b[39m2\u001b[39m\u001b[39m*\u001b[39mi \u001b[39m+\u001b[39m \u001b[39m1\u001b[39m))\u001b[39m.\u001b[39mcenter(m, \u001b[39m'\u001b[39m\u001b[39m-\u001b[39m\u001b[39m'\u001b[39m) \u001b[39mfor\u001b[39;00m i \u001b[39min\u001b[39;00m \u001b[39mrange\u001b[39m(n\u001b[39m/\u001b[39m\u001b[39m/\u001b[39m\u001b[39m2\u001b[39m)]\n\u001b[0;32m      <a href='vscode-notebook-cell:/c%3A/Users/peyka/python/python-study/clarusway/coding-challange/mysolutions.ipynb#ch0000036?line=2'>3</a>\u001b[0m \u001b[39mprint\u001b[39m(\u001b[39m'\u001b[39m\u001b[39m\\n\u001b[39;00m\u001b[39m'\u001b[39m\u001b[39m.\u001b[39mjoin(pattern \u001b[39m+\u001b[39m [\u001b[39m'\u001b[39m\u001b[39mWELCOME\u001b[39m\u001b[39m'\u001b[39m\u001b[39m.\u001b[39mcenter(m, \u001b[39m'\u001b[39m\u001b[39m-\u001b[39m\u001b[39m'\u001b[39m)] \u001b[39m+\u001b[39m pattern[::\u001b[39m-\u001b[39m\u001b[39m1\u001b[39m]))\n",
      "\u001b[1;31mValueError\u001b[0m: not enough values to unpack (expected 2, got 1)"
     ]
    }
   ],
   "source": [
    "n, m = map(int,input().split())\n",
    "pattern = [('.|.'*(2*i + 1)).center(m, '-') for i in range(n//2)]\n",
    "print('\\n'.join(pattern + ['WELCOME'.center(m, '-')] + pattern[::-1]))"
   ]
  },
  {
   "cell_type": "code",
   "execution_count": null,
   "metadata": {},
   "outputs": [],
   "source": []
  }
 ],
 "metadata": {
  "interpreter": {
   "hash": "37eadf006269a09e83806bee64c447f7a310dadfd7fdb93284a24a7d184fe87a"
  },
  "kernelspec": {
   "display_name": "Python 3.10.2 64-bit",
   "language": "python",
   "name": "python3"
  },
  "language_info": {
   "codemirror_mode": {
    "name": "ipython",
    "version": 3
   },
   "file_extension": ".py",
   "mimetype": "text/x-python",
   "name": "python",
   "nbconvert_exporter": "python",
   "pygments_lexer": "ipython3",
   "version": "3.10.2"
  },
  "orig_nbformat": 4
 },
 "nbformat": 4,
 "nbformat_minor": 2
}
