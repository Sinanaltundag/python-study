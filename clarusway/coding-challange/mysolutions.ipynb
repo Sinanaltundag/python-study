{
 "cells": [
  {
   "cell_type": "code",
   "execution_count": null,
   "metadata": {},
   "outputs": [],
   "source": []
  },
  {
   "cell_type": "markdown",
   "metadata": {},
   "source": [
    "#BASEBALL GAME\n",
    "###You are keeping score for a baseball game with strange rules. The game consist of several rounds, where the\n",
    "scores of past rounds may affect future rounds' scores.\n",
    "- At the beginning of the game, you start with an empty record. You are given a list of strings ops, where\n",
    "ops[i] is the ith operation you must apply to the record and is one of the following:\n",
    "-- An integer x - Record a new score of x,\n",
    "- \"+\" - Record a new score that is the sum of the previous scores. It is guaranteed there will always be\n",
    "two previous scores.\n",
    "- \"D\" - Record a new score that is double the previous score. It is guaranteed there will always be a\n",
    "previous score.\n",
    "- \"C\" - Invalidate the pevious score, removing it from the record. It is guaranteed there will always be a\n",
    "previous score.\n",
    "Return the sum of all the scores on the record."
   ]
  },
  {
   "cell_type": "code",
   "execution_count": 2,
   "metadata": {},
   "outputs": [
    {
     "name": "stdout",
     "output_type": "stream",
     "text": [
      "30\n",
      "27\n"
     ]
    }
   ],
   "source": [
    "def sum(list1):\n",
    "    temp =[]\n",
    "    result = 0\n",
    "    for i in range(len(list1)):\n",
    "        if list1[i] == \"C\":\n",
    "            temp.pop()\n",
    "            # print(list1)\n",
    "        elif list1[i] == \"D\":\n",
    "            temp.append(temp[-1]*2)\n",
    "        elif list1[i] == \"+\":\n",
    "            temp.append(temp[-1]+temp[-2])\n",
    "        else:\n",
    "            temp.append(int(list1[i]))\n",
    "    for i in temp:\n",
    "        result += i\n",
    "    return result\n",
    "\n",
    "    \n",
    "\n",
    "print(sum([\"5\",\"2\",\"C\",\"D\", \"+\"]))\n",
    "print(sum([\"5\",\"-2\",\"4\",\"C\", \"D\", \"9\", \"+\", \"+\"]))"
   ]
  },
  {
   "cell_type": "code",
   "execution_count": null,
   "metadata": {},
   "outputs": [],
   "source": []
  }
 ],
 "metadata": {
  "interpreter": {
   "hash": "37eadf006269a09e83806bee64c447f7a310dadfd7fdb93284a24a7d184fe87a"
  },
  "kernelspec": {
   "display_name": "Python 3.10.2 64-bit",
   "language": "python",
   "name": "python3"
  },
  "language_info": {
   "codemirror_mode": {
    "name": "ipython",
    "version": 3
   },
   "file_extension": ".py",
   "mimetype": "text/x-python",
   "name": "python",
   "nbconvert_exporter": "python",
   "pygments_lexer": "ipython3",
   "version": "3.10.2"
  },
  "orig_nbformat": 4
 },
 "nbformat": 4,
 "nbformat_minor": 2
}
