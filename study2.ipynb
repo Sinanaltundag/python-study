{
 "cells": [
  {
   "cell_type": "markdown",
   "id": "d4e88179-6c06-4933-b1d8-708c2ec9488f",
   "metadata": {},
   "source": [
    "###functions"
   ]
  },
  {
   "cell_type": "code",
   "execution_count": 3,
   "id": "4f0fc9f8-0b1c-4f7a-8da6-b73be672b613",
   "metadata": {},
   "outputs": [
    {
     "name": "stdout",
     "output_type": "stream",
     "text": [
      "(30, 80)\n",
      "24\n"
     ]
    }
   ],
   "source": [
    "def deneme(x,y):\n",
    "    return x*3,y*4\n",
    "print(deneme(10,20))\n",
    "a,b = deneme(5,6)\n",
    "print(b)"
   ]
  },
  {
   "cell_type": "markdown",
   "id": "e814246f-d424-4e4a-837e-cd1ee5597715",
   "metadata": {},
   "source": [
    "##predefined parameters"
   ]
  },
  {
   "cell_type": "code",
   "execution_count": 7,
   "id": "db3ddb04-585b-4c56-b863-f6529fba0e99",
   "metadata": {},
   "outputs": [
    {
     "data": {
      "text/plain": [
       "18"
      ]
     },
     "execution_count": 7,
     "metadata": {},
     "output_type": "execute_result"
    }
   ],
   "source": [
    "def topla(q,w=2,e=3): #öntanımlı parametreler sonda olmalı\n",
    "    return q+w+e\n",
    "topla(5,10)"
   ]
  },
  {
   "cell_type": "code",
   "execution_count": 6,
   "id": "3f0a0a69-6697-4e3b-9282-f953d4cbcd2e",
   "metadata": {},
   "outputs": [
    {
     "data": {
      "text/plain": [
       "10"
      ]
     },
     "execution_count": 6,
     "metadata": {},
     "output_type": "execute_result"
    }
   ],
   "source": [
    "topla(5)"
   ]
  },
  {
   "cell_type": "code",
   "execution_count": 11,
   "id": "c440b391-7927-44dd-a00f-c2d697de3c04",
   "metadata": {},
   "outputs": [
    {
     "name": "stdout",
     "output_type": "stream",
     "text": [
      "[1, 5, 3]\n",
      "[1, 5, 3]\n"
     ]
    }
   ],
   "source": [
    "a=[1,2,3]\n",
    "def degis(x):\n",
    "    x[1]=5\n",
    "    print(x)\n",
    "degis(a)            # fonksiyon içinde değişen list dışarıdada değişir \n",
    "print(a)"
   ]
  },
  {
   "cell_type": "code",
   "execution_count": 15,
   "id": "16f9e3eb-d795-4a4d-9a95-3eb0f056ad7d",
   "metadata": {},
   "outputs": [
    {
     "name": "stdout",
     "output_type": "stream",
     "text": [
      "[1, 5, 3]\n",
      "[1, 2, 3]\n"
     ]
    }
   ],
   "source": [
    "b=[1,2,3]\n",
    "def degis2(x):\n",
    "    l2=x.copy()\n",
    "    l2[1]=5\n",
    "    print(l2)\n",
    "degis2(b)            # fonksiyon içinde değişen listin dışarıda değişmemesi için yeni değişkene \"kopyalamamız\" lazım\n",
    "print(b)"
   ]
  },
  {
   "cell_type": "code",
   "execution_count": 26,
   "id": "a34da61e-562e-4021-93da-8284635b6ded",
   "metadata": {},
   "outputs": [
    {
     "data": {
      "text/plain": [
       "35"
      ]
     },
     "execution_count": 26,
     "metadata": {},
     "output_type": "execute_result"
    }
   ],
   "source": [
    "def topla(x):\n",
    "    return x+3\n",
    "def carp(x,z):\n",
    "    return topla(x)*5\n",
    "carp( 4 , topla )"
   ]
  },
  {
   "cell_type": "markdown",
   "id": "cc176042-3e7b-4559-8136-6389a6d076f8",
   "metadata": {},
   "source": [
    "# fonksiyon içinde fonksiyon çağırma"
   ]
  },
  {
   "cell_type": "code",
   "execution_count": 37,
   "id": "f7a17ff3-e7ed-4c9d-9b09-7676d8e5faf1",
   "metadata": {},
   "outputs": [],
   "source": [
    "a= [\"aaa\",\"bbb\",\"ccc\"]\n",
    "def ekkoy(l,fonksiyonum):\n",
    "    for i in range(len(l)):\n",
    "        l[i]= fonksiyonum(l[i])\n",
    "    return l"
   ]
  },
  {
   "cell_type": "code",
   "execution_count": 19,
   "id": "54f63065-835a-4c21-9a85-fe34ebf0b78d",
   "metadata": {},
   "outputs": [],
   "source": [
    "def ek(x):\n",
    "    return x+\"ek\""
   ]
  },
  {
   "cell_type": "code",
   "execution_count": 40,
   "id": "d5e2b7cd-b081-4afe-a9d9-d153a40b4e84",
   "metadata": {},
   "outputs": [
    {
     "data": {
      "text/plain": [
       "['aaaekekek', 'bbbekekek', 'cccekekek']"
      ]
     },
     "execution_count": 40,
     "metadata": {},
     "output_type": "execute_result"
    }
   ],
   "source": [
    "ekkoy(a,ek)"
   ]
  },
  {
   "cell_type": "code",
   "execution_count": 23,
   "id": "95f4378a-0d13-4fee-a7ed-6129b630b2b2",
   "metadata": {},
   "outputs": [],
   "source": [
    "a= [\"aaa\",\"bbb\",\"ccc\"]\n",
    "def topla(x):\n",
    "    return x+x\n",
    "def ekyap(fonklist, ekler):\n",
    "    sonuc=[]\n",
    "    for i in fonklist:\n",
    "        \n",
    "        sonuc.append(i(ekler))\n",
    "    return sonuc\n",
    "def carp(x):\n",
    "    return x*x\n",
    "    "
   ]
  },
  {
   "cell_type": "code",
   "execution_count": 24,
   "id": "0e73dd58-c629-4ee3-bcf8-ab5e47c7ee24",
   "metadata": {},
   "outputs": [
    {
     "data": {
      "text/plain": [
       "[6, 9]"
      ]
     },
     "execution_count": 24,
     "metadata": {},
     "output_type": "execute_result"
    }
   ],
   "source": [
    "ekyap([topla,carp],3)"
   ]
  },
  {
   "cell_type": "code",
   "execution_count": 8,
   "id": "5bc589e3-83de-488d-aaaa-49f3670136b6",
   "metadata": {},
   "outputs": [],
   "source": [
    "a=[1,2,[3,4,5],[\"a\",[\"b\",[\"c\"]]],\"deniz\"]"
   ]
  },
  {
   "cell_type": "code",
   "execution_count": 12,
   "id": "74bdceaa-2f7c-4391-8b56-9a7d2d9737c6",
   "metadata": {},
   "outputs": [],
   "source": [
    "def flat(liste):\n",
    "    flatList=[]\n",
    "    for i in liste:\n",
    "        if (type(i) != list):\n",
    "            flatList.append(i)\n",
    "        else:\n",
    "            for ii in i:\n",
    "                if (type(ii) is list):\n",
    "                    flat(ii)\n",
    "                else: \n",
    "                    flatList.append(ii)\n",
    "                \n",
    "    return flatList        \n",
    "    "
   ]
  },
  {
   "cell_type": "code",
   "execution_count": 5,
   "id": "6d6c3676-0f20-413c-a79c-f3a49a120d71",
   "metadata": {},
   "outputs": [
    {
     "data": {
      "text/plain": [
       "[1, 2, 3, 4, 5, 'a', 'deniz']"
      ]
     },
     "execution_count": 5,
     "metadata": {},
     "output_type": "execute_result"
    }
   ],
   "source": [
    "flat(a)"
   ]
  },
  {
   "cell_type": "code",
   "execution_count": 71,
   "id": "141951c0-1080-49e5-8939-47f0485a7a8c",
   "metadata": {},
   "outputs": [],
   "source": [
    "d=[]\n",
    "def ac(l,c):\n",
    "    for i in l:\n",
    "        if (type(i) is list):\n",
    "            ac(i,c)\n",
    "        else:\n",
    "            c.append(i)\n",
    "            print(c)\n",
    "    return c"
   ]
  },
  {
   "cell_type": "code",
   "execution_count": 72,
   "id": "122f3b3d-8165-4c59-b3d7-6de85efbd588",
   "metadata": {},
   "outputs": [
    {
     "name": "stdout",
     "output_type": "stream",
     "text": [
      "[1, 2, [3, 4, 5], ['a', ['b', ['c']]], 'deniz']\n",
      "[1, 2, 3, 4, 5, 'a', 'b', 'c', 'deniz', 1, 2, 3, 4, 5, 'a', 'b', 'c', 'deniz', 1]\n",
      "[1, 2, 3, 4, 5, 'a', 'b', 'c', 'deniz', 1, 2, 3, 4, 5, 'a', 'b', 'c', 'deniz', 1, 2]\n",
      "[1, 2, 3, 4, 5, 'a', 'b', 'c', 'deniz', 1, 2, 3, 4, 5, 'a', 'b', 'c', 'deniz', 1, 2, 3]\n",
      "[1, 2, 3, 4, 5, 'a', 'b', 'c', 'deniz', 1, 2, 3, 4, 5, 'a', 'b', 'c', 'deniz', 1, 2, 3, 4]\n",
      "[1, 2, 3, 4, 5, 'a', 'b', 'c', 'deniz', 1, 2, 3, 4, 5, 'a', 'b', 'c', 'deniz', 1, 2, 3, 4, 5]\n",
      "[1, 2, 3, 4, 5, 'a', 'b', 'c', 'deniz', 1, 2, 3, 4, 5, 'a', 'b', 'c', 'deniz', 1, 2, 3, 4, 5, 'a']\n",
      "[1, 2, 3, 4, 5, 'a', 'b', 'c', 'deniz', 1, 2, 3, 4, 5, 'a', 'b', 'c', 'deniz', 1, 2, 3, 4, 5, 'a', 'b']\n",
      "[1, 2, 3, 4, 5, 'a', 'b', 'c', 'deniz', 1, 2, 3, 4, 5, 'a', 'b', 'c', 'deniz', 1, 2, 3, 4, 5, 'a', 'b', 'c']\n",
      "[1, 2, 3, 4, 5, 'a', 'b', 'c', 'deniz', 1, 2, 3, 4, 5, 'a', 'b', 'c', 'deniz', 1, 2, 3, 4, 5, 'a', 'b', 'c', 'deniz']\n"
     ]
    },
    {
     "data": {
      "text/plain": [
       "[1,\n",
       " 2,\n",
       " 3,\n",
       " 4,\n",
       " 5,\n",
       " 'a',\n",
       " 'b',\n",
       " 'c',\n",
       " 'deniz',\n",
       " 1,\n",
       " 2,\n",
       " 3,\n",
       " 4,\n",
       " 5,\n",
       " 'a',\n",
       " 'b',\n",
       " 'c',\n",
       " 'deniz',\n",
       " 1,\n",
       " 2,\n",
       " 3,\n",
       " 4,\n",
       " 5,\n",
       " 'a',\n",
       " 'b',\n",
       " 'c',\n",
       " 'deniz']"
      ]
     },
     "execution_count": 72,
     "metadata": {},
     "output_type": "execute_result"
    }
   ],
   "source": [
    "print(a)\n",
    "ac(a,f)\n"
   ]
  },
  {
   "cell_type": "code",
   "execution_count": 15,
   "id": "a52cfb6b-ec65-46e1-a9ea-d1f71f0b385c",
   "metadata": {},
   "outputs": [],
   "source": [
    "def flat(liste):\n",
    "    flatList=[]\n",
    "    for i in liste:\n",
    "        if (type(i) != list):\n",
    "            print(i)\n",
    "            flatList.append(i)\n",
    "        else:\n",
    "            ac(i)\n",
    "                \n",
    "    return flatList        \n",
    "    "
   ]
  },
  {
   "cell_type": "code",
   "execution_count": 80,
   "id": "7954c088-3f99-4922-b710-f8bea1d13b11",
   "metadata": {},
   "outputs": [
    {
     "name": "stdout",
     "output_type": "stream",
     "text": [
      "1\n",
      "2\n",
      "[1, 2, 3]\n",
      "[1, 2, 3, 4]\n",
      "[1, 2, 3, 4, 5]\n",
      "[[7, 6, 5], [4, 3], [2, 1]]\n",
      "[1, 2, 3, 4, 5, 3]\n",
      "[1, 2, 3, 4, 5, 3, 4]\n",
      "[1, 2, 3, 4, 5, 3, 4, 5]\n",
      "[[7, 6, 5], [4, 3], [2, 1]]\n",
      "[1, 2, 3, 4, 5, 3, 4, 5, 3]\n",
      "[1, 2, 3, 4, 5, 3, 4, 5, 3, 4]\n",
      "[1, 2, 3, 4, 5, 3, 4, 5, 3, 4, 5]\n",
      "[[7, 6, 5], [4, 3], [2, 1]]\n",
      "[1, 2, 3, 4, 5, 3, 4, 5, 3, 4, 5, 'a']\n",
      "[1, 2, 3, 4, 5, 3, 4, 5, 3, 4, 5, 'a', 'b']\n",
      "[1, 2, 3, 4, 5, 3, 4, 5, 3, 4, 5, 'a', 'b', 'c']\n",
      "[[7, 6, 5], [4, 3], [2, 1]]\n",
      "[1, 2, 3, 4, 5, 3, 4, 5, 3, 4, 5, 'a', 'b', 'c', 'a']\n",
      "[1, 2, 3, 4, 5, 3, 4, 5, 3, 4, 5, 'a', 'b', 'c', 'a', 'b']\n",
      "[1, 2, 3, 4, 5, 3, 4, 5, 3, 4, 5, 'a', 'b', 'c', 'a', 'b', 'c']\n",
      "[[7, 6, 5], [4, 3], [2, 1]]\n",
      "deniz\n"
     ]
    },
    {
     "data": {
      "text/plain": [
       "[1, 2, 3, 4, 5, 3, 4, 5, 3, 4, 5, 'a', 'b', 'c', 'a', 'b', 'c', 'deniz']"
      ]
     },
     "execution_count": 80,
     "metadata": {},
     "output_type": "execute_result"
    }
   ],
   "source": [
    "flat(a)"
   ]
  },
  {
   "cell_type": "code",
   "execution_count": 78,
   "id": "b178fc7f-63c1-4d92-937c-2c689a994928",
   "metadata": {},
   "outputs": [],
   "source": [
    "d=[[1, 2], [3, 4], [5, 6, 7]]\n",
    "def revlist(l):\n",
    "    l.reverse()\n",
    "    for i in l:\n",
    "        if (type(i) is list):\n",
    "            revlist(i)\n",
    "    return l"
   ]
  },
  {
   "cell_type": "code",
   "execution_count": 79,
   "id": "02ea9b2c-6cce-4e09-82d4-d97eb9c39917",
   "metadata": {},
   "outputs": [
    {
     "data": {
      "text/plain": [
       "[[7, 6, 5], [4, 3], [2, 1]]"
      ]
     },
     "execution_count": 79,
     "metadata": {},
     "output_type": "execute_result"
    }
   ],
   "source": [
    "revlist(d)"
   ]
  },
  {
   "cell_type": "code",
   "execution_count": null,
   "id": "7351fe6d-aa7b-4e77-97ec-1f8b8099cc1c",
   "metadata": {},
   "outputs": [],
   "source": []
  }
 ],
 "metadata": {
  "kernelspec": {
   "display_name": "Python 3 (ipykernel)",
   "language": "python",
   "name": "python3"
  },
  "language_info": {
   "codemirror_mode": {
    "name": "ipython",
    "version": 3
   },
   "file_extension": ".py",
   "mimetype": "text/x-python",
   "name": "python",
   "nbconvert_exporter": "python",
   "pygments_lexer": "ipython3",
   "version": "3.10.2"
  }
 },
 "nbformat": 4,
 "nbformat_minor": 5
}
