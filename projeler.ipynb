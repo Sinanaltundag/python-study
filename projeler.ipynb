{
 "cells": [
  {
   "cell_type": "code",
   "execution_count": 4,
   "id": "b833fa10-8be0-4dcf-8f27-43de5aaf5924",
   "metadata": {},
   "outputs": [],
   "source": [
    "d=[]\n",
    "def flatten(l):\n",
    "    for i in l:\n",
    "        if (type(i) is list):\n",
    "            flatten(i)\n",
    "        else:\n",
    "            d.append(i)\n",
    "    return d"
   ]
  },
  {
   "cell_type": "code",
   "execution_count": 5,
   "id": "6fa9c2e3-0672-4cda-8c00-8dead3ab4c7e",
   "metadata": {},
   "outputs": [
    {
     "data": {
      "text/plain": [
       "[1, 'a', 'cat', 2, 3, 'dog', 4, 5]"
      ]
     },
     "execution_count": 5,
     "metadata": {},
     "output_type": "execute_result"
    }
   ],
   "source": [
    "a=[[1,'a',['cat'],2],[[[3]],'dog'],4,5]\n",
    "flatten(a)"
   ]
  },
  {
   "cell_type": "code",
   "execution_count": 7,
   "id": "6dd4f7a0-544f-4af1-b803-a792804337d7",
   "metadata": {},
   "outputs": [],
   "source": [
    "def revList(l):\n",
    "    l.reverse()\n",
    "    for i in l:\n",
    "        if (type(i) is list):\n",
    "            revList(i)\n",
    "    return l"
   ]
  },
  {
   "cell_type": "code",
   "execution_count": 8,
   "id": "1d6f90b6-eb3a-4fc0-b695-5eda992fcfce",
   "metadata": {},
   "outputs": [
    {
     "data": {
      "text/plain": [
       "[[7, 6, 5], [4, 3], [2, 1]]"
      ]
     },
     "execution_count": 8,
     "metadata": {},
     "output_type": "execute_result"
    }
   ],
   "source": [
    "d=[[1, 2], [3, 4], [5, 6, 7]]\n",
    "revList(d)"
   ]
  }
 ],
 "metadata": {
  "kernelspec": {
   "display_name": "Python 3 (ipykernel)",
   "language": "python",
   "name": "python3"
  },
  "language_info": {
   "codemirror_mode": {
    "name": "ipython",
    "version": 3
   },
   "file_extension": ".py",
   "mimetype": "text/x-python",
   "name": "python",
   "nbconvert_exporter": "python",
   "pygments_lexer": "ipython3",
   "version": "3.10.2"
  }
 },
 "nbformat": 4,
 "nbformat_minor": 5
}
