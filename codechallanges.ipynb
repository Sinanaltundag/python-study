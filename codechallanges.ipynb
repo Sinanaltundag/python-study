{
 "cells": [
  {
   "cell_type": "code",
   "execution_count": 1,
   "id": "f4b2f257-c8e7-48a9-bcb0-65e1f14a70bb",
   "metadata": {},
   "outputs": [
    {
     "name": "stdout",
     "output_type": "stream",
     "text": [
      "12345"
     ]
    }
   ],
   "source": [
    "n=5\n",
    "str=\"\"\n",
    "for i in range(1, n+1):\n",
    "    print(i, end=\"\")"
   ]
  },
  {
   "cell_type": "code",
   "execution_count": 2,
   "id": "4a148bd8-d713-4f9c-bf2e-5227b3f7f8ce",
   "metadata": {},
   "outputs": [],
   "source": [
    "def is_leap(year):\n",
    "    leap = False\n",
    "    \n",
    "    if year%400==0:\n",
    "        leap=True\n",
    "        return leap\n",
    "    if year%4==0:\n",
    "        if year%100==0:\n",
    "            leap=False\n",
    "            return leap\n",
    "        else:\n",
    "            leap=True\n",
    "            return leap\n",
    "    \n",
    "    return leap"
   ]
  },
  {
   "cell_type": "code",
   "execution_count": 3,
   "id": "44790c2e-3231-4a75-b699-1ad0423799d2",
   "metadata": {},
   "outputs": [
    {
     "data": {
      "text/plain": [
       "False"
      ]
     },
     "execution_count": 3,
     "metadata": {},
     "output_type": "execute_result"
    }
   ],
   "source": [
    "is_leap(2100)"
   ]
  },
  {
   "cell_type": "code",
   "execution_count": 4,
   "id": "ee93258d-5d29-4bee-855e-57eb47e2e13e",
   "metadata": {},
   "outputs": [],
   "source": [
    "str1=\"({[{()[{}]}]})\"\n",
    "subbracket= [\"()\",\"{}\",\"[]\"]\n",
    "def validate(astr):\n",
    "    while any(x in astr for x in subbracket):\n",
    "           astr= astr.replace(\"()\",\"\").replace(\"{}\",\"\").replace(\"[]\",\"\")\n",
    "    return astr==\"\"      \n",
    "           "
   ]
  },
  {
   "cell_type": "code",
   "execution_count": 5,
   "id": "77ab08be-f589-4eb6-ab93-353a37a45aad",
   "metadata": {},
   "outputs": [
    {
     "name": "stdout",
     "output_type": "stream",
     "text": [
      "True\n"
     ]
    }
   ],
   "source": [
    " print(validate(str1))"
   ]
  },
  {
   "cell_type": "code",
   "execution_count": 6,
   "id": "ce021a24-3d82-491b-8fee-29d790222e4c",
   "metadata": {},
   "outputs": [
    {
     "name": "stdout",
     "output_type": "stream",
     "text": [
      "sss\n"
     ]
    }
   ],
   "source": [
    "print(\"sss\")"
   ]
  },
  {
   "cell_type": "code",
   "execution_count": 1,
   "id": "b777eed7-6efc-46da-89f0-a4f4a52431a5",
   "metadata": {},
   "outputs": [
    {
     "name": "stdout",
     "output_type": "stream",
     "text": [
      "9\n"
     ]
    }
   ],
   "source": [
    "prices = [2,10,15,1,9,7,1,5,10,3,6,4]\n",
    "a = max(prices)\n",
    "x = prices.index(a)\n",
    "b = min(prices)\n",
    "y = prices.index(b)\n",
    "maxProfit = 0\n",
    "if x < y:\n",
    "  z = prices.pop(x)\n",
    "  new_a = max(prices)\n",
    "  max_profit = (new_a - b)\n",
    "  print(max_profit)\n",
    "else:\n",
    "  max_profit = a - b\n",
    "  print(max_profit) "
   ]
  },
  {
   "cell_type": "code",
   "execution_count": 32,
   "id": "e1383142-71d0-4918-bb7c-2a55ff9f0e8c",
   "metadata": {},
   "outputs": [
    {
     "name": "stdout",
     "output_type": "stream",
     "text": [
      "9\n"
     ]
    }
   ],
   "source": [
    "price = [2,10,15,1,9,7,1,5,10,3,6,4]\n",
    "newList = price[price.index(min(prices)):]\n",
    "print(max(newList)-min(newList))"
   ]
  },
  {
   "cell_type": "code",
   "execution_count": 33,
   "id": "99a933bc-d5ca-48cf-8fce-a53965f5092d",
   "metadata": {},
   "outputs": [
    {
     "name": "stdout",
     "output_type": "stream",
     "text": [
      "9\n"
     ]
    }
   ],
   "source": [
    "prices = [2,10,15,1,9,7,1,5,10,3,6,4]\n",
    "\n",
    "x = prices.index(max(prices))\n",
    "y = prices.index(min(prices))\n",
    "while x < y:\n",
    "    prices.pop(x)\n",
    "    x = prices.index(max(prices))\n",
    "    y = prices.index(min(prices))\n",
    "print(max(prices)-min(prices))\n"
   ]
  },
  {
   "cell_type": "code",
   "execution_count": 7,
   "id": "cb1620a9-3992-46e4-94a8-36928e33aaee",
   "metadata": {},
   "outputs": [],
   "source": [
    "arr1 = [10, 5, 2, 7, 8, 7]\n",
    "k =3\n",
    "def slidingWinMax(arr,k):\n",
    "    res=[]\n",
    "    while len(arr)>=k:\n",
    "        temp= arr[0:k]\n",
    "        res.append(max(temp))\n",
    "        arr.pop(0)\n",
    "    print(res) "
   ]
  },
  {
   "cell_type": "code",
   "execution_count": 8,
   "id": "2ddfa995-e948-45a3-ab53-6ba5601e3ffa",
   "metadata": {},
   "outputs": [
    {
     "name": "stdout",
     "output_type": "stream",
     "text": [
      "[10, 7, 8, 8]\n"
     ]
    }
   ],
   "source": [
    "slidingWinMax(arr1,k)"
   ]
  }
 ],
 "metadata": {
  "kernelspec": {
   "display_name": "Python 3 (ipykernel)",
   "language": "python",
   "name": "python3"
  },
  "language_info": {
   "codemirror_mode": {
    "name": "ipython",
    "version": 3
   },
   "file_extension": ".py",
   "mimetype": "text/x-python",
   "name": "python",
   "nbconvert_exporter": "python",
   "pygments_lexer": "ipython3",
   "version": "3.10.2"
  }
 },
 "nbformat": 4,
 "nbformat_minor": 5
}
