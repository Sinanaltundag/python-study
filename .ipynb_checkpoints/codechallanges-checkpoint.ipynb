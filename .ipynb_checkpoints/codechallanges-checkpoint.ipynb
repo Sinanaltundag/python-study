{
 "cells": [
  {
   "cell_type": "code",
   "execution_count": 3,
   "id": "f4b2f257-c8e7-48a9-bcb0-65e1f14a70bb",
   "metadata": {},
   "outputs": [
    {
     "name": "stdout",
     "output_type": "stream",
     "text": [
      "12345"
     ]
    }
   ],
   "source": [
    "n=5\n",
    "str=\"\"\n",
    "for i in range(1, n+1):\n",
    "    print(i, end=\"\")"
   ]
  },
  {
   "cell_type": "code",
   "execution_count": 4,
   "id": "4a148bd8-d713-4f9c-bf2e-5227b3f7f8ce",
   "metadata": {},
   "outputs": [],
   "source": [
    "def is_leap(year):\n",
    "    leap = False\n",
    "    \n",
    "    if year%400==0:\n",
    "        leap=True\n",
    "        return leap\n",
    "    if year%4==0:\n",
    "        if year%100==0:\n",
    "            leap=False\n",
    "            return leap\n",
    "        else:\n",
    "            leap=True\n",
    "            return leap\n",
    "    \n",
    "    return leap"
   ]
  },
  {
   "cell_type": "code",
   "execution_count": 10,
   "id": "44790c2e-3231-4a75-b699-1ad0423799d2",
   "metadata": {},
   "outputs": [
    {
     "data": {
      "text/plain": [
       "False"
      ]
     },
     "execution_count": 10,
     "metadata": {},
     "output_type": "execute_result"
    }
   ],
   "source": [
    "is_leap(2100)"
   ]
  },
  {
   "cell_type": "code",
   "execution_count": 9,
   "id": "ee93258d-5d29-4bee-855e-57eb47e2e13e",
   "metadata": {},
   "outputs": [],
   "source": [
    "str1=\"({[{()[{}]}]})\"\n",
    "subbracket= [\"()\",\"{}\",\"[]\"]\n",
    "def validate(astr):\n",
    "    while any(x in astr for x in subbracket):\n",
    "           astr= astr.replace(\"()\",\"\").replace(\"{}\",\"\").replace(\"[]\",\"\")\n",
    "    return astr==\"\"      \n",
    "           "
   ]
  },
  {
   "cell_type": "code",
   "execution_count": 10,
   "id": "77ab08be-f589-4eb6-ab93-353a37a45aad",
   "metadata": {},
   "outputs": [
    {
     "name": "stdout",
     "output_type": "stream",
     "text": [
      "False\n"
     ]
    }
   ],
   "source": [
    " print(validate(str1))"
   ]
  },
  {
   "cell_type": "code",
   "execution_count": null,
   "id": "ce021a24-3d82-491b-8fee-29d790222e4c",
   "metadata": {},
   "outputs": [],
   "source": [
    "print(\"sss\")"
   ]
  },
  {
   "cell_type": "code",
   "execution_count": null,
   "id": "b777eed7-6efc-46da-89f0-a4f4a52431a5",
   "metadata": {},
   "outputs": [],
   "source": []
  },
  {
   "cell_type": "code",
   "execution_count": null,
   "id": "e1383142-71d0-4918-bb7c-2a55ff9f0e8c",
   "metadata": {},
   "outputs": [],
   "source": []
  }
 ],
 "metadata": {
  "kernelspec": {
   "display_name": "Python 3 (ipykernel)",
   "language": "python",
   "name": "python3"
  },
  "language_info": {
   "codemirror_mode": {
    "name": "ipython",
    "version": 3
   },
   "file_extension": ".py",
   "mimetype": "text/x-python",
   "name": "python",
   "nbconvert_exporter": "python",
   "pygments_lexer": "ipython3",
   "version": "3.10.2"
  }
 },
 "nbformat": 4,
 "nbformat_minor": 5
}
